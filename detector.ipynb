{
 "cells": [
  {
   "cell_type": "code",
   "execution_count": 1,
   "metadata": {
    "colab": {
     "base_uri": "https://localhost:8080/"
    },
    "id": "h_oJzGfFCu0h",
    "outputId": "b1e3315b-7896-4167-fa19-afdb8f1e5190"
   },
   "outputs": [
    {
     "name": "stdout",
     "output_type": "stream",
     "text": [
      "Mounted at /content/drive\n"
     ]
    }
   ],
   "source": [
    "from google.colab import drive\n",
    "\n",
    "drive.mount('/content/drive')"
   ]
  },
  {
   "cell_type": "code",
   "execution_count": null,
   "metadata": {
    "colab": {
     "base_uri": "https://localhost:8080/"
    },
    "id": "2e0YZ86IDM5g",
    "outputId": "4f46bcb0-1e76-42eb-80d2-32375183fec2"
   },
   "outputs": [
    {
     "name": "stdout",
     "output_type": "stream",
     "text": [
      "/content/drive/MyDrive/Task-1\n"
     ]
    }
   ],
   "source": [
    "%cd /content/drive/MyDrive/Task-1"
   ]
  },
  {
   "cell_type": "code",
   "execution_count": null,
   "metadata": {
    "colab": {
     "base_uri": "https://localhost:8080/"
    },
    "id": "rX_tj9SLtake",
    "outputId": "798ca463-a04b-4d25-d880-11d55c91dc5d"
   },
   "outputs": [
    {
     "name": "stdout",
     "output_type": "stream",
     "text": [
      "Cloning into 'pytorch-YOLOv4'...\n",
      "remote: Enumerating objects: 395, done.\u001b[K\n",
      "remote: Total 395 (delta 0), reused 0 (delta 0), pack-reused 395\u001b[K\n",
      "Receiving objects: 100% (395/395), 914.87 KiB | 1.02 MiB/s, done.\n",
      "Resolving deltas: 100% (225/225), done.\n"
     ]
    }
   ],
   "source": [
    "!git clone https://github.com/roboflow-ai/pytorch-YOLOv4.git"
   ]
  },
  {
   "cell_type": "code",
   "execution_count": null,
   "metadata": {
    "colab": {
     "base_uri": "https://localhost:8080/",
     "height": 1000
    },
    "id": "2dcOE23gvbHj",
    "outputId": "37d6a1b8-d07d-4883-9743-119854e574ee"
   },
   "outputs": [
    {
     "name": "stdout",
     "output_type": "stream",
     "text": [
      "/content/drive/MyDrive/Task-1/pytorch-YOLOv4\n",
      "Collecting numpy==1.18.2\n",
      "\u001b[?25l  Downloading https://files.pythonhosted.org/packages/07/08/a549ba8b061005bb629b76adc000f3caaaf881028b963c2e18f811c6edc1/numpy-1.18.2-cp36-cp36m-manylinux1_x86_64.whl (20.2MB)\n",
      "\u001b[K     |████████████████████████████████| 20.2MB 1.4MB/s \n",
      "\u001b[?25hCollecting torch==1.4.0\n",
      "\u001b[?25l  Downloading https://files.pythonhosted.org/packages/24/19/4804aea17cd136f1705a5e98a00618cb8f6ccc375ad8bfa437408e09d058/torch-1.4.0-cp36-cp36m-manylinux1_x86_64.whl (753.4MB)\n",
      "\u001b[K     |████████████████████████████████| 753.4MB 22kB/s \n",
      "\u001b[?25hRequirement already satisfied: scikit_image==0.16.2 in /usr/local/lib/python3.6/dist-packages (from -r requirements.txt (line 3)) (0.16.2)\n",
      "Collecting matplotlib==2.2.3\n",
      "\u001b[?25l  Downloading https://files.pythonhosted.org/packages/9e/59/f235ab21bbe7b7c6570c4abf17ffb893071f4fa3b9cf557b09b60359ad9a/matplotlib-2.2.3-cp36-cp36m-manylinux1_x86_64.whl (12.6MB)\n",
      "\u001b[K     |████████████████████████████████| 12.6MB 249kB/s \n",
      "\u001b[?25hCollecting tqdm==4.43.0\n",
      "\u001b[?25l  Downloading https://files.pythonhosted.org/packages/47/55/fd9170ba08a1a64a18a7f8a18f088037316f2a41be04d2fe6ece5a653e8f/tqdm-4.43.0-py2.py3-none-any.whl (59kB)\n",
      "\u001b[K     |████████████████████████████████| 61kB 3.5MB/s \n",
      "\u001b[?25hRequirement already satisfied: easydict==1.9 in /usr/local/lib/python3.6/dist-packages (from -r requirements.txt (line 6)) (1.9)\n",
      "Collecting Pillow==7.1.2\n",
      "\u001b[?25l  Downloading https://files.pythonhosted.org/packages/e0/50/8e78e6f62ffa50d6ca95c281d5a2819bef66d023ac1b723e253de5bda9c5/Pillow-7.1.2-cp36-cp36m-manylinux1_x86_64.whl (2.1MB)\n",
      "\u001b[K     |████████████████████████████████| 2.1MB 46.0MB/s \n",
      "\u001b[?25hCollecting tensorboardX\n",
      "\u001b[?25l  Downloading https://files.pythonhosted.org/packages/af/0c/4f41bcd45db376e6fe5c619c01100e9b7531c55791b7244815bac6eac32c/tensorboardX-2.1-py2.py3-none-any.whl (308kB)\n",
      "\u001b[K     |████████████████████████████████| 317kB 37.7MB/s \n",
      "\u001b[?25hRequirement already satisfied: scipy>=0.19.0 in /usr/local/lib/python3.6/dist-packages (from scikit_image==0.16.2->-r requirements.txt (line 3)) (1.4.1)\n",
      "Requirement already satisfied: networkx>=2.0 in /usr/local/lib/python3.6/dist-packages (from scikit_image==0.16.2->-r requirements.txt (line 3)) (2.5)\n",
      "Requirement already satisfied: imageio>=2.3.0 in /usr/local/lib/python3.6/dist-packages (from scikit_image==0.16.2->-r requirements.txt (line 3)) (2.4.1)\n",
      "Requirement already satisfied: PyWavelets>=0.4.0 in /usr/local/lib/python3.6/dist-packages (from scikit_image==0.16.2->-r requirements.txt (line 3)) (1.1.1)\n",
      "Requirement already satisfied: pyparsing!=2.0.4,!=2.1.2,!=2.1.6,>=2.0.1 in /usr/local/lib/python3.6/dist-packages (from matplotlib==2.2.3->-r requirements.txt (line 4)) (2.4.7)\n",
      "Requirement already satisfied: kiwisolver>=1.0.1 in /usr/local/lib/python3.6/dist-packages (from matplotlib==2.2.3->-r requirements.txt (line 4)) (1.3.1)\n",
      "Requirement already satisfied: six>=1.10 in /usr/local/lib/python3.6/dist-packages (from matplotlib==2.2.3->-r requirements.txt (line 4)) (1.15.0)\n",
      "Requirement already satisfied: cycler>=0.10 in /usr/local/lib/python3.6/dist-packages (from matplotlib==2.2.3->-r requirements.txt (line 4)) (0.10.0)\n",
      "Requirement already satisfied: python-dateutil>=2.1 in /usr/local/lib/python3.6/dist-packages (from matplotlib==2.2.3->-r requirements.txt (line 4)) (2.8.1)\n",
      "Requirement already satisfied: pytz in /usr/local/lib/python3.6/dist-packages (from matplotlib==2.2.3->-r requirements.txt (line 4)) (2018.9)\n",
      "Requirement already satisfied: protobuf>=3.8.0 in /usr/local/lib/python3.6/dist-packages (from tensorboardX->-r requirements.txt (line 8)) (3.12.4)\n",
      "Requirement already satisfied: decorator>=4.3.0 in /usr/local/lib/python3.6/dist-packages (from networkx>=2.0->scikit_image==0.16.2->-r requirements.txt (line 3)) (4.4.2)\n",
      "Requirement already satisfied: setuptools in /usr/local/lib/python3.6/dist-packages (from protobuf>=3.8.0->tensorboardX->-r requirements.txt (line 8)) (51.1.1)\n",
      "\u001b[31mERROR: torchvision 0.8.1+cu101 has requirement torch==1.7.0, but you'll have torch 1.4.0 which is incompatible.\u001b[0m\n",
      "\u001b[31mERROR: tensorflow 2.4.0 has requirement numpy~=1.19.2, but you'll have numpy 1.18.2 which is incompatible.\u001b[0m\n",
      "\u001b[31mERROR: plotnine 0.6.0 has requirement matplotlib>=3.1.1, but you'll have matplotlib 2.2.3 which is incompatible.\u001b[0m\n",
      "\u001b[31mERROR: mizani 0.6.0 has requirement matplotlib>=3.1.1, but you'll have matplotlib 2.2.3 which is incompatible.\u001b[0m\n",
      "\u001b[31mERROR: datascience 0.10.6 has requirement folium==0.2.1, but you'll have folium 0.8.3 which is incompatible.\u001b[0m\n",
      "\u001b[31mERROR: albumentations 0.1.12 has requirement imgaug<0.2.7,>=0.2.5, but you'll have imgaug 0.2.9 which is incompatible.\u001b[0m\n",
      "Installing collected packages: numpy, torch, matplotlib, tqdm, Pillow, tensorboardX\n",
      "  Found existing installation: numpy 1.19.4\n",
      "    Uninstalling numpy-1.19.4:\n",
      "      Successfully uninstalled numpy-1.19.4\n",
      "  Found existing installation: torch 1.7.0+cu101\n",
      "    Uninstalling torch-1.7.0+cu101:\n",
      "      Successfully uninstalled torch-1.7.0+cu101\n",
      "  Found existing installation: matplotlib 3.2.2\n",
      "    Uninstalling matplotlib-3.2.2:\n",
      "      Successfully uninstalled matplotlib-3.2.2\n",
      "  Found existing installation: tqdm 4.41.1\n",
      "    Uninstalling tqdm-4.41.1:\n",
      "      Successfully uninstalled tqdm-4.41.1\n",
      "  Found existing installation: Pillow 7.0.0\n",
      "    Uninstalling Pillow-7.0.0:\n",
      "      Successfully uninstalled Pillow-7.0.0\n",
      "Successfully installed Pillow-7.1.2 matplotlib-2.2.3 numpy-1.18.2 tensorboardX-2.1 torch-1.4.0 tqdm-4.43.0\n"
     ]
    },
    {
     "data": {
      "application/vnd.colab-display-data+json": {
       "pip_warning": {
        "packages": [
         "PIL",
         "matplotlib",
         "mpl_toolkits",
         "numpy"
        ]
       }
      }
     },
     "metadata": {
      "tags": []
     },
     "output_type": "display_data"
    }
   ],
   "source": [
    "%cd /content/drive/MyDrive/Task-1/pytorch-YOLOv4\n",
    "!pip install -r requirements.txt"
   ]
  },
  {
   "cell_type": "code",
   "execution_count": null,
   "metadata": {
    "colab": {
     "base_uri": "https://localhost:8080/"
    },
    "id": "LDMmH-qO_bR5",
    "outputId": "fcb8d836-4af7-409c-ff8d-5d37c32fa0c3"
   },
   "outputs": [
    {
     "name": "stdout",
     "output_type": "stream",
     "text": [
      "/content/drive/MyDrive/Task-1/pytorch-YOLOv4\n"
     ]
    }
   ],
   "source": [
    "cd /content/drive/MyDrive/Task-1/pytorch-YOLOv4"
   ]
  },
  {
   "cell_type": "code",
   "execution_count": null,
   "metadata": {
    "colab": {
     "base_uri": "https://localhost:8080/"
    },
    "id": "UYIS9QfDyCK9",
    "outputId": "2d8dde82-561e-4634-8e8c-ee794e13d493"
   },
   "outputs": [
    {
     "name": "stdout",
     "output_type": "stream",
     "text": [
      "Downloading...\n",
      "From: https://drive.google.com/uc?id=1fcbR0bWzYfIEdLJPzOsn4R5mlvR6IQyA\n",
      "To: /content/drive/My Drive/Task-1/pytorch-YOLOv4/yolov4.conv.137.pth\n",
      "170MB [00:01, 160MB/s]\n"
     ]
    }
   ],
   "source": [
    "# download yolov4 weights that have already been converted to Python\n",
    "!gdown https://drive.google.com/uc?id=1fcbR0bWzYfIEdLJPzOsn4R5mlvR6IQyA"
   ]
  },
  {
   "cell_type": "code",
   "execution_count": null,
   "metadata": {
    "id": "lAoLxBEEz4FW"
   },
   "outputs": [],
   "source": [
    "%cp train/_annotations.txt train/train.txt\n",
    "%cp train/_annotations.txt train.txt\n",
    "%cp valid/_annotations.txt data/val.txt\n",
    "%cp valid/*.jpg train/"
   ]
  },
  {
   "cell_type": "code",
   "execution_count": 8,
   "metadata": {
    "id": "TvwlqXkSlwUm"
   },
   "outputs": [],
   "source": [
    "def file_len(fname):\n",
    "    with open(fname) as f:\n",
    "    for i, l in enumerate(f):\n",
    "        pass\n",
    "    return i + 1\n",
    "\n",
    "num_classes = file_len('train/_classes.txt')"
   ]
  },
  {
   "cell_type": "code",
   "execution_count": 9,
   "metadata": {
    "colab": {
     "base_uri": "https://localhost:8080/"
    },
    "id": "m6xrTj1gREEc",
    "outputId": "9ae472a8-487a-454f-e090-6d83bbc5a465"
   },
   "outputs": [
    {
     "name": "stdout",
     "output_type": "stream",
     "text": [
      "2\n"
     ]
    }
   ],
   "source": [
    "print(num_classes)"
   ]
  },
  {
   "cell_type": "code",
   "execution_count": null,
   "metadata": {
    "colab": {
     "base_uri": "https://localhost:8080/"
    },
    "id": "leTs8J2in6Fj",
    "outputId": "8074c5a3-c2b8-45bf-d2bc-a7eb31e76a38"
   },
   "outputs": [
    {
     "name": "stdout",
     "output_type": "stream",
     "text": [
      "0\n",
      "1"
     ]
    }
   ],
   "source": [
    "cat train/_classes.txt"
   ]
  },
  {
   "cell_type": "code",
   "execution_count": null,
   "metadata": {
    "colab": {
     "base_uri": "https://localhost:8080/"
    },
    "id": "mIlhqP2S57Ub",
    "outputId": "7b1bc9f9-6431-4909-9153-907b055fe9ea"
   },
   "outputs": [
    {
     "name": "stdout",
     "output_type": "stream",
     "text": [
      "log file path:log/log_2021-01-08_15-31-50.txt\n",
      "2021-01-08 15:31:50,804 train.py[line:435] INFO: Using device cuda\n",
      "2021-01-08 15:31:54,464 train.py[line:282] INFO: Starting training:\n",
      "        Epochs:          50\n",
      "        Batch size:      2\n",
      "        Subdivisions:    1\n",
      "        Learning rate:   0.001\n",
      "        Training size:   272\n",
      "        Validation size: 39\n",
      "        Checkpoints:     True\n",
      "        Device:          cuda\n",
      "        Images size:     608\n",
      "        Optimizer:       adam\n",
      "        Dataset classes: 2\n",
      "        Train label path:train.txt\n",
      "        Pretrained:\n",
      "    \n",
      "Epoch 1/50:   0%|        | 0/272 [00:00<?, ?img/s]/usr/local/lib/python3.6/dist-packages/torch/nn/_reduction.py:43: UserWarning: size_average and reduce args will be deprecated, please use reduction='sum' instead.\n",
      "  warnings.warn(warning.format(ret))\n",
      "Epoch 1/50:  14%|▏| 38/272 [00:08<00:35,  6.52img//usr/local/lib/python3.6/dist-packages/torch/optim/lr_scheduler.py:224: UserWarning: To get the last learning rate computed by the scheduler, please use `get_last_lr()`.\n",
      "  warnings.warn(\"To get the last learning rate computed by the scheduler, \"\n",
      "2021-01-08 15:32:03,652 train.py[line:353] INFO: Train step_20: loss : 32832.02734375,loss xy : 78.28965759277344,loss wh : 16.370330810546875,loss obj : 32697.015625，loss cls : 40.35121536254883,loss l2 : 11977.7490234375,lr : 1.6000000000000002e-10\n",
      "Epoch 1/50:  29%|▎| 78/272 [00:14<00:29,  6.69img/2021-01-08 15:32:09,629 train.py[line:353] INFO: Train step_40: loss : 32922.015625,loss xy : 17.152700424194336,loss wh : 2.597672939300537,loss obj : 32892.0859375，loss cls : 10.177796363830566,loss l2 : 12015.5107421875,lr : 2.5600000000000003e-09\n",
      "Epoch 1/50:  43%|▍| 118/272 [00:20<00:22,  6.71img2021-01-08 15:32:15,620 train.py[line:353] INFO: Train step_60: loss : 32942.5703125,loss xy : 21.05321502685547,loss wh : 3.5606369972229004,loss obj : 32906.53125，loss cls : 11.424084663391113,loss l2 : 12025.318359375,lr : 1.2959999999999998e-08\n",
      "Epoch 1/50:  58%|▌| 158/272 [00:26<00:16,  6.92img2021-01-08 15:32:21,616 train.py[line:353] INFO: Train step_80: loss : 32842.734375,loss xy : 9.432312965393066,loss wh : 1.2163563966751099,loss obj : 32825.46484375，loss cls : 6.621450901031494,loss l2 : 11978.6201171875,lr : 4.0960000000000004e-08\n",
      "Epoch 1/50:  73%|▋| 198/272 [00:32<00:11,  6.67img2021-01-08 15:32:27,460 train.py[line:353] INFO: Train step_100: loss : 32858.93359375,loss xy : 11.108162879943848,loss wh : 2.84787654876709,loss obj : 32839.0234375，loss cls : 5.951212406158447,loss l2 : 11987.8642578125,lr : 1.0000000000000002e-07\n",
      "Epoch 1/50:  88%|▉| 238/272 [00:38<00:05,  6.69img2021-01-08 15:32:33,613 train.py[line:353] INFO: Train step_120: loss : 32845.89453125,loss xy : 23.436065673828125,loss wh : 3.1155288219451904,loss obj : 32806.4921875，loss cls : 12.849662780761719,loss l2 : 11981.396484375,lr : 2.0735999999999997e-07\n",
      "Epoch 1/50: 100%|█| 272/272 [00:43<00:00,  7.74img2021-01-08 15:32:37,936 train.py[line:360] INFO: Created checkpoint directory\n",
      "2021-01-08 15:32:39,357 train.py[line:364] INFO: Checkpoint 1 saved !\n",
      "Epoch 1/50: 100%|█| 272/272 [00:44<00:00,  6.06img\n",
      "Epoch 2/50:   2%| | 6/272 [00:03<03:24,  1.30img/s2021-01-08 15:32:43,172 train.py[line:353] INFO: Train step_140: loss : 32766.498046875,loss xy : 18.14252471923828,loss wh : 3.6037864685058594,loss obj : 32735.31640625，loss cls : 9.435510635375977,loss l2 : 11948.4248046875,lr : 3.841600000000001e-07\n",
      "Epoch 2/50:  17%|▏| 46/272 [00:09<00:35,  6.32img/2021-01-08 15:32:49,275 train.py[line:353] INFO: Train step_160: loss : 32711.107421875,loss xy : 17.551776885986328,loss wh : 1.071883201599121,loss obj : 32682.287109375，loss cls : 10.197332382202148,loss l2 : 11916.0517578125,lr : 6.553600000000001e-07\n",
      "Epoch 2/50:  32%|▎| 86/272 [00:15<00:26,  7.06img/2021-01-08 15:32:55,073 train.py[line:353] INFO: Train step_180: loss : 32657.080078125,loss xy : 6.1260552406311035,loss wh : 0.6876193284988403,loss obj : 32645.8515625，loss cls : 4.413327693939209,loss l2 : 11893.6513671875,lr : 1.0497599999999998e-06\n",
      "Epoch 2/50:  46%|▍| 126/272 [00:21<00:21,  6.86img2021-01-08 15:33:00,834 train.py[line:353] INFO: Train step_200: loss : 32451.658203125,loss xy : 15.686922073364258,loss wh : 3.8637406826019287,loss obj : 32424.484375，loss cls : 7.623823642730713,loss l2 : 11792.26171875,lr : 1.6000000000000004e-06\n",
      "Epoch 2/50:  61%|▌| 166/272 [00:27<00:15,  6.89img2021-01-08 15:33:06,712 train.py[line:353] INFO: Train step_220: loss : 32423.189453125,loss xy : 33.99797821044922,loss wh : 6.037843227386475,loss obj : 32366.599609375，loss cls : 16.554746627807617,loss l2 : 11783.900390625,lr : 2.34256e-06\n",
      "Epoch 2/50:  76%|▊| 206/272 [00:32<00:09,  6.67img2021-01-08 15:33:12,615 train.py[line:353] INFO: Train step_240: loss : 32016.92578125,loss xy : 14.797295570373535,loss wh : 1.0681096315383911,loss obj : 31992.91796875，loss cls : 8.142383575439453,loss l2 : 11588.6806640625,lr : 3.3177599999999996e-06\n",
      "Epoch 2/50:  90%|▉| 246/272 [00:38<00:03,  7.48img2021-01-08 15:33:18,284 train.py[line:353] INFO: Train step_260: loss : 31454.607421875,loss xy : 3.8940463066101074,loss wh : 0.35002079606056213,loss obj : 31447.599609375，loss cls : 2.7634308338165283,loss l2 : 11316.814453125,lr : 4.569760000000001e-06\n",
      "Epoch 2/50: 100%|█| 272/272 [00:42<00:00,  7.64img2021-01-08 15:33:22,414 train.py[line:364] INFO: Checkpoint 2 saved !\n",
      "Epoch 2/50: 100%|█| 272/272 [00:43<00:00,  6.32img\n",
      "Epoch 3/50:   5%| | 14/272 [00:04<01:11,  3.61img/2021-01-08 15:33:27,085 train.py[line:353] INFO: Train step_280: loss : 30652.13671875,loss xy : 12.45123291015625,loss wh : 2.5595874786376953,loss obj : 30630.998046875，loss cls : 6.1278605461120605,loss l2 : 10928.8486328125,lr : 6.146560000000002e-06\n",
      "Epoch 3/50:  20%|▏| 54/272 [00:10<00:34,  6.30img/2021-01-08 15:33:33,420 train.py[line:353] INFO: Train step_300: loss : 29605.9765625,loss xy : 26.41338348388672,loss wh : 4.495426177978516,loss obj : 29561.255859375，loss cls : 13.812891006469727,loss l2 : 10409.2265625,lr : 8.1e-06\n",
      "Epoch 3/50:  35%|▎| 94/272 [00:16<00:25,  6.89img/2021-01-08 15:33:39,433 train.py[line:353] INFO: Train step_320: loss : 28556.412109375,loss xy : 4.146175861358643,loss wh : 0.449495792388916,loss obj : 28549.279296875，loss cls : 2.536750078201294,loss l2 : 9906.771484375,lr : 1.0485760000000001e-05\n",
      "Epoch 3/50:  49%|▍| 134/272 [00:22<00:19,  6.90img2021-01-08 15:33:45,224 train.py[line:353] INFO: Train step_340: loss : 27267.310546875,loss xy : 24.258358001708984,loss wh : 2.0410091876983643,loss obj : 27227.23828125，loss cls : 13.774147987365723,loss l2 : 9280.3955078125,lr : 1.3363360000000005e-05\n",
      "Epoch 3/50:  64%|▋| 174/272 [00:28<00:14,  6.59img2021-01-08 15:33:51,269 train.py[line:353] INFO: Train step_360: loss : 26198.38671875,loss xy : 29.595720291137695,loss wh : 15.044868469238281,loss obj : 26138.55859375，loss cls : 15.186951637268066,loss l2 : 8788.5830078125,lr : 1.6796159999999997e-05\n",
      "Epoch 3/50:  79%|▊| 214/272 [00:34<00:08,  7.19img2021-01-08 15:33:57,013 train.py[line:353] INFO: Train step_380: loss : 25044.306640625,loss xy : 16.736923217773438,loss wh : 0.9936255812644958,loss obj : 25016.619140625，loss cls : 9.956188201904297,loss l2 : 8222.68359375,lr : 2.085136e-05\n",
      "Epoch 3/50:  93%|▉| 254/272 [00:39<00:02,  7.65img2021-01-08 15:34:02,488 train.py[line:353] INFO: Train step_400: loss : 22868.158203125,loss xy : 11.342982292175293,loss wh : 1.053234338760376,loss obj : 22849.07421875，loss cls : 6.687074661254883,loss l2 : 7201.56103515625,lr : 2.5600000000000006e-05\n",
      "Epoch 3/50: 100%|█| 272/272 [00:42<00:00,  7.73img2021-01-08 15:34:05,478 train.py[line:364] INFO: Checkpoint 3 saved !\n",
      "Epoch 3/50: 100%|█| 272/272 [00:43<00:00,  6.32img\n",
      "Epoch 4/50:   8%| | 22/272 [00:05<00:46,  5.35img/2021-01-08 15:34:11,553 train.py[line:353] INFO: Train step_420: loss : 21773.314453125,loss xy : 20.759021759033203,loss wh : 2.072242259979248,loss obj : 21739.447265625，loss cls : 11.034965515136719,loss l2 : 6694.173828125,lr : 3.111696e-05\n",
      "Epoch 4/50:  23%|▏| 62/272 [00:11<00:31,  6.75img/2021-01-08 15:34:17,645 train.py[line:353] INFO: Train step_440: loss : 19814.22265625,loss xy : 33.64308547973633,loss wh : 1.6386749744415283,loss obj : 19761.05859375，loss cls : 17.881946563720703,loss l2 : 5797.97265625,lr : 3.748096e-05\n",
      "Epoch 4/50:  38%|▍| 102/272 [00:17<00:24,  6.86img2021-01-08 15:34:23,407 train.py[line:353] INFO: Train step_460: loss : 18026.474609375,loss xy : 32.65465545654297,loss wh : 7.428079605102539,loss obj : 17969.556640625，loss cls : 16.835582733154297,loss l2 : 5015.3427734375,lr : 4.477456000000001e-05\n",
      "Epoch 4/50:  52%|▌| 142/272 [00:23<00:18,  6.93img2021-01-08 15:34:29,297 train.py[line:353] INFO: Train step_480: loss : 16510.20703125,loss xy : 21.100303649902344,loss wh : 54.561038970947266,loss obj : 16423.740234375，loss cls : 10.805436134338379,loss l2 : 4432.12158203125,lr : 5.308415999999999e-05\n",
      "Epoch 4/50:  67%|▋| 182/272 [00:29<00:12,  7.00img2021-01-08 15:34:35,188 train.py[line:353] INFO: Train step_500: loss : 15338.2138671875,loss xy : 13.853658676147461,loss wh : 1.1449387073516846,loss obj : 15314.8466796875，loss cls : 8.36811637878418,loss l2 : 3862.673095703125,lr : 6.25e-05\n",
      "Epoch 4/50:  82%|▊| 222/272 [00:35<00:07,  6.64img2021-01-08 15:34:41,100 train.py[line:353] INFO: Train step_520: loss : 14431.0634765625,loss xy : 25.757766723632812,loss wh : 1.797387957572937,loss obj : 14389.8544921875，loss cls : 13.65418529510498,loss l2 : 3491.481201171875,lr : 7.311616000000002e-05\n",
      "Epoch 4/50:  96%|▉| 262/272 [00:40<00:01,  7.66img2021-01-08 15:34:46,589 train.py[line:353] INFO: Train step_540: loss : 13597.0029296875,loss xy : 33.36927032470703,loss wh : 3.1500914096832275,loss obj : 13543.9921875，loss cls : 16.490766525268555,loss l2 : 3174.68408203125,lr : 8.503056000000002e-05\n",
      "Epoch 4/50: 100%|█| 272/272 [00:42<00:00,  7.67img2021-01-08 15:34:48,599 train.py[line:364] INFO: Checkpoint 4 saved !\n",
      "Epoch 4/50: 100%|█| 272/272 [00:43<00:00,  6.31img\n",
      "Epoch 5/50:  11%| | 30/272 [00:06<00:36,  6.58img/2021-01-08 15:34:55,859 train.py[line:353] INFO: Train step_560: loss : 12549.849609375,loss xy : 33.50820541381836,loss wh : 3.3192527294158936,loss obj : 12495.59375，loss cls : 17.428264617919922,loss l2 : 2762.539794921875,lr : 9.834496000000003e-05\n",
      "Epoch 5/50:  26%|▎| 70/272 [00:13<00:30,  6.62img/2021-01-08 15:35:02,147 train.py[line:353] INFO: Train step_580: loss : 11656.7978515625,loss xy : 15.3812255859375,loss wh : 1.5844470262527466,loss obj : 11631.4697265625，loss cls : 8.362041473388672,loss l2 : 2438.904541015625,lr : 0.00011316495999999998\n",
      "Epoch 5/50:  40%|▍| 110/272 [00:19<00:24,  6.63img2021-01-08 15:35:08,059 train.py[line:353] INFO: Train step_600: loss : 10981.2021484375,loss xy : 19.683773040771484,loss wh : 1.4623141288757324,loss obj : 10949.94140625，loss cls : 10.114343643188477,loss l2 : 2202.263427734375,lr : 0.0001296\n",
      "Epoch 5/50:  55%|▌| 150/272 [00:25<00:18,  6.76img2021-01-08 15:35:13,949 train.py[line:353] INFO: Train step_620: loss : 10132.3916015625,loss xy : 34.21685791015625,loss wh : 1.8518283367156982,loss obj : 10079.64453125，loss cls : 16.67864227294922,loss l2 : 1908.0255126953125,lr : 0.00014776335999999997\n",
      "Epoch 5/50:  70%|▋| 190/272 [00:30<00:11,  6.87img2021-01-08 15:35:19,792 train.py[line:353] INFO: Train step_640: loss : 9181.1015625,loss xy : 30.21950340270996,loss wh : 2.424776792526245,loss obj : 9134.3974609375，loss cls : 14.059526443481445,loss l2 : 1594.3345947265625,lr : 0.00016777216000000002\n",
      "Epoch 5/50:  85%|▊| 230/272 [00:36<00:05,  7.10img2021-01-08 15:35:25,529 train.py[line:353] INFO: Train step_660: loss : 8340.2880859375,loss xy : 15.201616287231445,loss wh : 0.7296985387802124,loss obj : 8316.7265625，loss cls : 7.630103588104248,loss l2 : 1347.3084716796875,lr : 0.00018974736000000004\n",
      "Epoch 5/50:  99%|▉| 270/272 [00:41<00:00,  7.72img2021-01-08 15:35:30,833 train.py[line:353] INFO: Train step_680: loss : 7650.49072265625,loss xy : 11.573969841003418,loss wh : 0.9315636157989502,loss obj : 7632.49658203125，loss cls : 5.488542079925537,loss l2 : 1158.2191162109375,lr : 0.0002138137600000001\n",
      "Epoch 5/50: 100%|█| 272/272 [00:42<00:00,  7.72img2021-01-08 15:35:31,815 train.py[line:364] INFO: Checkpoint 5 saved !\n",
      "Epoch 5/50: 100%|█| 272/272 [00:43<00:00,  6.29img\n",
      "Epoch 6/50:  14%|▏| 38/272 [00:08<00:34,  6.74img/2021-01-08 15:35:40,417 train.py[line:353] INFO: Train step_700: loss : 7230.8017578125,loss xy : 42.21010971069336,loss wh : 2.9904932975769043,loss obj : 7165.4990234375，loss cls : 20.102277755737305,loss l2 : 1050.551025390625,lr : 0.00024009999999999995\n",
      "Epoch 6/50:  29%|▎| 78/272 [00:14<00:29,  6.68img/2021-01-08 15:35:46,792 train.py[line:353] INFO: Train step_720: loss : 6396.1328125,loss xy : 20.27484130859375,loss wh : 8.78877067565918,loss obj : 6354.798828125，loss cls : 12.270391464233398,loss l2 : 853.7910766601562,lr : 0.00026873855999999996\n",
      "Epoch 6/50:  43%|▍| 118/272 [00:20<00:22,  6.75img2021-01-08 15:35:52,746 train.py[line:353] INFO: Train step_740: loss : 5618.63916015625,loss xy : 20.156435012817383,loss wh : 1.0577125549316406,loss obj : 5587.93798828125，loss cls : 9.486783027648926,loss l2 : 662.1196899414062,lr : 0.00029986575999999996\n",
      "Epoch 6/50:  58%|▌| 158/272 [00:26<00:16,  6.96img2021-01-08 15:35:58,489 train.py[line:353] INFO: Train step_760: loss : 5068.7509765625,loss xy : 6.587837219238281,loss wh : 0.42693305015563965,loss obj : 5057.794921875，loss cls : 3.941267728805542,loss l2 : 546.3796997070312,lr : 0.00033362176\n",
      "Epoch 6/50:  73%|▋| 198/272 [00:32<00:11,  6.64img2021-01-08 15:36:04,343 train.py[line:353] INFO: Train step_780: loss : 4458.27978515625,loss xy : 15.646589279174805,loss wh : 0.7467511892318726,loss obj : 4436.22509765625，loss cls : 5.661028861999512,loss l2 : 430.9569396972656,lr : 0.00037015056000000006\n",
      "Epoch 6/50:  88%|▉| 238/272 [00:38<00:04,  6.81img2021-01-08 15:36:10,264 train.py[line:353] INFO: Train step_800: loss : 4003.807373046875,loss xy : 17.433101654052734,loss wh : 1.066436767578125,loss obj : 3976.18798828125，loss cls : 9.11985969543457,loss l2 : 362.36248779296875,lr : 0.0004096000000000001\n",
      "Epoch 6/50: 100%|█| 272/272 [00:42<00:00,  7.65img2021-01-08 15:36:15,419 train.py[line:364] INFO: Checkpoint 6 saved !\n",
      "Epoch 6/50: 100%|█| 272/272 [00:43<00:00,  6.24img\n",
      "Epoch 7/50:   2%| | 6/272 [00:03<03:10,  1.39img/s2021-01-08 15:36:18,967 train.py[line:353] INFO: Train step_820: loss : 3441.625732421875,loss xy : 12.410033226013184,loss wh : 0.6079812049865723,loss obj : 3422.431640625，loss cls : 6.176026344299316,loss l2 : 265.0317687988281,lr : 0.0004521217599999999\n",
      "Epoch 7/50:  17%|▏| 46/272 [00:09<00:35,  6.39img/2021-01-08 15:36:24,987 train.py[line:353] INFO: Train step_840: loss : 3060.973388671875,loss xy : 33.58335494995117,loss wh : 1.7271455526351929,loss obj : 3010.31005859375，loss cls : 15.352882385253906,loss l2 : 219.0121612548828,lr : 0.00049787136\n",
      "Epoch 7/50:  32%|▎| 86/272 [00:15<00:28,  6.53img/2021-01-08 15:36:31,153 train.py[line:353] INFO: Train step_860: loss : 2756.79052734375,loss xy : 32.02162551879883,loss wh : 9.807092666625977,loss obj : 2701.647705078125，loss cls : 13.314135551452637,loss l2 : 200.19839477539062,lr : 0.00054700816\n",
      "Epoch 7/50:  46%|▍| 126/272 [00:21<00:21,  6.81img2021-01-08 15:36:37,097 train.py[line:353] INFO: Train step_880: loss : 2414.9345703125,loss xy : 28.83245086669922,loss wh : 3.7181522846221924,loss obj : 2366.649169921875，loss cls : 15.734834671020508,loss l2 : 150.70631408691406,lr : 0.00059969536\n",
      "Epoch 7/50:  61%|▌| 166/272 [00:27<00:15,  6.65img2021-01-08 15:36:42,941 train.py[line:353] INFO: Train step_900: loss : 2062.53271484375,loss xy : 20.124431610107422,loss wh : 1.6245890855789185,loss obj : 2031.8895263671875，loss cls : 8.894194602966309,loss l2 : 108.82054138183594,lr : 0.0006561000000000001\n",
      "Epoch 7/50:  76%|▊| 206/272 [00:33<00:09,  6.98img2021-01-08 15:36:48,774 train.py[line:353] INFO: Train step_920: loss : 1937.104736328125,loss xy : 76.39934539794922,loss wh : 9.314655303955078,loss obj : 1818.5537109375，loss cls : 32.83700180053711,loss l2 : 128.94287109375,lr : 0.0007163929600000001\n",
      "Epoch 7/50:  90%|▉| 246/272 [00:38<00:03,  7.34img2021-01-08 15:36:54,492 train.py[line:353] INFO: Train step_940: loss : 1515.0389404296875,loss xy : 3.3138325214385986,loss wh : 0.0758209303021431,loss obj : 1509.35107421875，loss cls : 2.2981796264648438,loss l2 : 54.921051025390625,lr : 0.0007807489599999998\n",
      "Epoch 7/50: 100%|█| 272/272 [00:42<00:00,  7.72img2021-01-08 15:36:58,581 train.py[line:364] INFO: Checkpoint 7 saved !\n",
      "Epoch 7/50: 100%|█| 272/272 [00:43<00:00,  6.30img\n",
      "Epoch 8/50:   5%| | 14/272 [00:04<01:14,  3.49img/2021-01-08 15:37:03,351 train.py[line:353] INFO: Train step_960: loss : 1380.045166015625,loss xy : 23.848716735839844,loss wh : 1.8480570316314697,loss obj : 1347.758056640625，loss cls : 6.59036922454834,loss l2 : 54.03388595581055,lr : 0.0008493465599999999\n",
      "Epoch 8/50:  20%|▏| 54/272 [00:10<00:35,  6.17img/2021-01-08 15:37:09,613 train.py[line:353] INFO: Train step_980: loss : 1278.8707275390625,loss xy : 31.49555206298828,loss wh : 5.459924697875977,loss obj : 1226.0604248046875，loss cls : 15.854911804199219,loss l2 : 62.269779205322266,lr : 0.0009223681599999999\n",
      "Epoch 8/50:  35%|▎| 94/272 [00:16<00:25,  6.92img/2021-01-08 15:37:15,585 train.py[line:353] INFO: Train step_1000: loss : 1024.216552734375,loss xy : 3.4020400047302246,loss wh : 0.10212881118059158,loss obj : 1019.3446044921875，loss cls : 1.3678548336029053,loss l2 : 25.722461700439453,lr : 0.001\n",
      "Epoch 8/50:  49%|▍| 134/272 [00:22<00:19,  6.94img2021-01-08 15:37:21,465 train.py[line:353] INFO: Train step_1020: loss : 997.5597534179688,loss xy : 32.59297180175781,loss wh : 3.6946897506713867,loss obj : 949.5628662109375，loss cls : 11.70924186706543,loss l2 : 43.86086654663086,lr : 0.001\n",
      "Epoch 8/50:  64%|▋| 174/272 [00:28<00:14,  6.97img2021-01-08 15:37:27,344 train.py[line:353] INFO: Train step_1040: loss : 877.4896240234375,loss xy : 30.28911018371582,loss wh : 2.9623537063598633,loss obj : 833.8763427734375，loss cls : 10.361795425415039,loss l2 : 36.54912567138672,lr : 0.001\n",
      "Epoch 8/50:  79%|▊| 214/272 [00:34<00:08,  6.86img2021-01-08 15:37:33,293 train.py[line:353] INFO: Train step_1060: loss : 794.3150024414062,loss xy : 27.89855194091797,loss wh : 3.806532382965088,loss obj : 752.7940063476562，loss cls : 9.81594467163086,loss l2 : 35.72440719604492,lr : 0.001\n",
      "Epoch 8/50:  93%|▉| 254/272 [00:40<00:02,  7.65img2021-01-08 15:37:39,006 train.py[line:353] INFO: Train step_1080: loss : 706.2715454101562,loss xy : 23.579139709472656,loss wh : 1.579889178276062,loss obj : 656.4795532226562，loss cls : 24.632963180541992,loss l2 : 28.18826675415039,lr : 0.001\n",
      "Epoch 8/50: 100%|█| 272/272 [00:42<00:00,  7.64img2021-01-08 15:37:42,133 train.py[line:364] INFO: Checkpoint 8 saved !\n",
      "Epoch 8/50: 100%|█| 272/272 [00:43<00:00,  6.25img\n",
      "Epoch 9/50:   8%| | 22/272 [00:05<00:45,  5.49img/2021-01-08 15:37:48,377 train.py[line:353] INFO: Train step_1100: loss : 824.0310668945312,loss xy : 81.45767211914062,loss wh : 25.655242919921875,loss obj : 696.99951171875，loss cls : 19.918668746948242,loss l2 : 97.34101867675781,lr : 0.001\n",
      "Epoch 9/50:  23%|▏| 62/272 [00:11<00:31,  6.65img/2021-01-08 15:37:54,463 train.py[line:353] INFO: Train step_1120: loss : 615.5471801757812,loss xy : 22.75235366821289,loss wh : 6.3298187255859375,loss obj : 574.1004638671875，loss cls : 12.364583015441895,loss l2 : 32.50896453857422,lr : 0.001\n",
      "Epoch 9/50:  38%|▍| 102/272 [00:18<00:24,  6.93img2021-01-08 15:38:00,573 train.py[line:353] INFO: Train step_1140: loss : 752.0389404296875,loss xy : 80.50625610351562,loss wh : 12.284483909606934,loss obj : 632.0838623046875，loss cls : 27.164291381835938,loss l2 : 71.6038818359375,lr : 0.001\n",
      "Epoch 9/50:  52%|▌| 142/272 [00:23<00:17,  7.24img2021-01-08 15:38:06,377 train.py[line:353] INFO: Train step_1160: loss : 573.7273559570312,loss xy : 32.0855598449707,loss wh : 9.431830406188965,loss obj : 505.51007080078125，loss cls : 26.699913024902344,loss l2 : 47.75852584838867,lr : 0.001\n",
      "Epoch 9/50:  67%|▋| 182/272 [00:29<00:12,  7.09img2021-01-08 15:38:12,105 train.py[line:353] INFO: Train step_1180: loss : 497.6544189453125,loss xy : 26.371578216552734,loss wh : 2.44777774810791,loss obj : 458.0757141113281，loss cls : 10.759346008300781,loss l2 : 22.136859893798828,lr : 0.001\n",
      "Epoch 9/50:  82%|▊| 222/272 [00:35<00:07,  6.99img2021-01-08 15:38:17,915 train.py[line:353] INFO: Train step_1200: loss : 464.2342224121094,loss xy : 24.03160858154297,loss wh : 2.560802459716797,loss obj : 427.6243896484375，loss cls : 10.017416954040527,loss l2 : 20.931655883789062,lr : 0.001\n",
      "Epoch 9/50:  96%|▉| 262/272 [00:40<00:01,  7.76img2021-01-08 15:38:23,307 train.py[line:353] INFO: Train step_1220: loss : 389.6483154296875,loss xy : 11.820268630981445,loss wh : 1.033895492553711,loss obj : 367.64422607421875，loss cls : 9.149948120117188,loss l2 : 11.401466369628906,lr : 0.001\n",
      "Epoch 9/50: 100%|█| 272/272 [00:42<00:00,  7.82img2021-01-08 15:38:25,343 train.py[line:364] INFO: Checkpoint 9 saved !\n",
      "Epoch 9/50: 100%|█| 272/272 [00:43<00:00,  6.29img\n",
      "Epoch 10/50:  11%| | 30/272 [00:07<00:42,  5.67img2021-01-08 15:38:33,029 train.py[line:353] INFO: Train step_1240: loss : 642.074951171875,loss xy : 83.5302734375,loss wh : 41.8956413269043,loss obj : 482.7131042480469，loss cls : 33.93592071533203,loss l2 : 133.36544799804688,lr : 0.001\n",
      "Epoch 10/50:  26%|▎| 70/272 [00:13<00:30,  6.61img2021-01-08 15:38:39,092 train.py[line:353] INFO: Train step_1260: loss : 363.98370361328125,loss xy : 14.066032409667969,loss wh : 1.0246204137802124,loss obj : 345.92633056640625，loss cls : 2.966730833053589,loss l2 : 11.936716079711914,lr : 0.001\n",
      "Epoch 10/50:  40%|▍| 110/272 [00:19<00:23,  6.79im2021-01-08 15:38:45,003 train.py[line:353] INFO: Train step_1280: loss : 341.7623596191406,loss xy : 12.962416648864746,loss wh : 0.9857086539268494,loss obj : 323.9260559082031，loss cls : 3.8881735801696777,loss l2 : 11.333953857421875,lr : 0.001\n",
      "Epoch 10/50:  55%|▌| 150/272 [00:25<00:17,  7.11im2021-01-08 15:38:50,856 train.py[line:353] INFO: Train step_1300: loss : 313.4665222167969,loss xy : 10.684606552124023,loss wh : 0.3553401529788971,loss obj : 299.8849182128906，loss cls : 2.541649580001831,loss l2 : 7.246951103210449,lr : 0.001\n",
      "Epoch 10/50:  70%|▋| 190/272 [00:31<00:11,  6.84im2021-01-08 15:38:56,776 train.py[line:353] INFO: Train step_1320: loss : 280.9992980957031,loss xy : 6.263803005218506,loss wh : 0.20210455358028412,loss obj : 273.8402099609375，loss cls : 0.6931690573692322,loss l2 : 3.9782848358154297,lr : 0.001\n",
      "Epoch 10/50:  85%|▊| 230/272 [00:37<00:05,  7.15im2021-01-08 15:39:02,652 train.py[line:353] INFO: Train step_1340: loss : 329.58843994140625,loss xy : 26.361007690429688,loss wh : 6.532474994659424,loss obj : 290.7509765625，loss cls : 5.943963527679443,loss l2 : 24.114290237426758,lr : 0.001\n",
      "Epoch 10/50:  99%|▉| 270/272 [00:42<00:00,  7.63im2021-01-08 15:39:07,971 train.py[line:353] INFO: Train step_1360: loss : 256.643310546875,loss xy : 2.685102701187134,loss wh : 0.18468889594078064,loss obj : 247.14129638671875，loss cls : 6.632217884063721,loss l2 : 6.203287124633789,lr : 0.001\n",
      "Epoch 10/50: 100%|█| 272/272 [00:42<00:00,  7.69im2021-01-08 15:39:08,960 train.py[line:364] INFO: Checkpoint 10 saved !\n",
      "Epoch 10/50: 100%|█| 272/272 [00:43<00:00,  6.24im\n",
      "Epoch 11/50:  14%|▏| 38/272 [00:08<00:37,  6.22img2021-01-08 15:39:17,636 train.py[line:353] INFO: Train step_1380: loss : 242.662353515625,loss xy : 6.1426215171813965,loss wh : 0.12736080586910248,loss obj : 232.61476135253906，loss cls : 3.777597665786743,loss l2 : 4.73564338684082,lr : 0.001\n",
      "Epoch 11/50:  29%|▎| 78/272 [00:14<00:29,  6.69img2021-01-08 15:39:23,738 train.py[line:353] INFO: Train step_1400: loss : 266.16912841796875,loss xy : 20.844396591186523,loss wh : 0.8881285786628723,loss obj : 238.59719848632812，loss cls : 5.839409351348877,loss l2 : 12.365081787109375,lr : 0.001\n",
      "Epoch 11/50:  43%|▍| 118/272 [00:20<00:22,  6.72im2021-01-08 15:39:29,668 train.py[line:353] INFO: Train step_1420: loss : 243.90142822265625,loss xy : 14.42281723022461,loss wh : 0.8964666724205017,loss obj : 224.81463623046875，loss cls : 3.7675085067749023,loss l2 : 8.905845642089844,lr : 0.001\n",
      "Epoch 11/50:  58%|▌| 158/272 [00:26<00:17,  6.58im2021-01-08 15:39:35,535 train.py[line:353] INFO: Train step_1440: loss : 248.2787322998047,loss xy : 17.379180908203125,loss wh : 1.505469799041748,loss obj : 223.6872100830078，loss cls : 5.7068634033203125,loss l2 : 12.842970848083496,lr : 0.001\n",
      "Epoch 11/50:  73%|▋| 198/272 [00:32<00:11,  6.33im2021-01-08 15:39:41,481 train.py[line:353] INFO: Train step_1460: loss : 267.593994140625,loss xy : 24.903568267822266,loss wh : 4.134629249572754,loss obj : 230.5979461669922，loss cls : 7.957856178283691,loss l2 : 21.375869750976562,lr : 0.001\n",
      "Epoch 11/50:  88%|▉| 238/272 [00:38<00:05,  6.41im2021-01-08 15:39:47,494 train.py[line:353] INFO: Train step_1480: loss : 241.11802673339844,loss xy : 17.731048583984375,loss wh : 1.0666812658309937,loss obj : 214.44976806640625，loss cls : 7.870523452758789,loss l2 : 13.490795135498047,lr : 0.001\n",
      "Epoch 11/50: 100%|█| 272/272 [00:42<00:00,  7.65im2021-01-08 15:39:52,654 train.py[line:364] INFO: Checkpoint 11 saved !\n",
      "Epoch 11/50: 100%|█| 272/272 [00:43<00:00,  6.23im\n",
      "Epoch 12/50:   2%| | 6/272 [00:03<03:34,  1.24img/2021-01-08 15:39:56,532 train.py[line:353] INFO: Train step_1500: loss : 203.95635986328125,loss xy : 9.636899948120117,loss wh : 0.48279643058776855,loss obj : 192.38931274414062，loss cls : 1.4473495483398438,loss l2 : 5.747170448303223,lr : 0.001\n",
      "Epoch 12/50:  17%|▏| 46/272 [00:09<00:36,  6.26img2021-01-08 15:40:02,585 train.py[line:353] INFO: Train step_1520: loss : 171.59820556640625,loss xy : 3.668919324874878,loss wh : 0.07923603057861328,loss obj : 167.6246795654297，loss cls : 0.22537103295326233,loss l2 : 1.3848927021026611,lr : 0.001\n",
      "Epoch 12/50:  32%|▎| 86/272 [00:15<00:26,  6.96img2021-01-08 15:40:08,727 train.py[line:353] INFO: Train step_1540: loss : 247.0404815673828,loss xy : 17.790828704833984,loss wh : 28.73094940185547,loss obj : 194.48744201660156，loss cls : 6.0312652587890625,loss l2 : 67.75811767578125,lr : 0.001\n",
      "Epoch 12/50:  46%|▍| 126/272 [00:21<00:20,  7.08im2021-01-08 15:40:14,657 train.py[line:353] INFO: Train step_1560: loss : 329.6271057128906,loss xy : 52.07512664794922,loss wh : 6.014115333557129,loss obj : 260.0608825683594，loss cls : 11.476978302001953,loss l2 : 38.24951171875,lr : 0.001\n",
      "Epoch 12/50:  61%|▌| 166/272 [00:27<00:15,  6.81im2021-01-08 15:40:20,674 train.py[line:353] INFO: Train step_1580: loss : 165.16746520996094,loss xy : 8.924476623535156,loss wh : 0.2292308509349823,loss obj : 155.32766723632812，loss cls : 0.686096727848053,loss l2 : 4.582668304443359,lr : 0.001\n",
      "Epoch 12/50:  76%|▊| 206/272 [00:33<00:09,  6.68im2021-01-08 15:40:26,585 train.py[line:353] INFO: Train step_1600: loss : 147.83815002441406,loss xy : 3.205777406692505,loss wh : 0.10289383679628372,loss obj : 143.2265167236328，loss cls : 1.3029614686965942,loss l2 : 1.368116855621338,lr : 0.001\n",
      "Epoch 12/50:  90%|▉| 246/272 [00:39<00:03,  7.28im2021-01-08 15:40:32,213 train.py[line:353] INFO: Train step_1620: loss : 144.2115936279297,loss xy : 3.442718029022217,loss wh : 0.030453624203801155,loss obj : 140.61709594726562，loss cls : 0.121328204870224,loss l2 : 1.2321858406066895,lr : 0.001\n",
      "Epoch 12/50: 100%|█| 272/272 [00:42<00:00,  7.75im2021-01-08 15:40:36,287 train.py[line:364] INFO: Checkpoint 12 saved !\n",
      "Epoch 12/50: 100%|█| 272/272 [00:43<00:00,  6.23im\n",
      "Epoch 13/50:   5%| | 14/272 [00:04<01:14,  3.45img2021-01-08 15:40:41,051 train.py[line:353] INFO: Train step_1640: loss : 135.65072631835938,loss xy : 3.1267776489257812,loss wh : 0.09379342198371887,loss obj : 132.24026489257812，loss cls : 0.18989619612693787,loss l2 : 1.2736475467681885,lr : 0.001\n",
      "Epoch 13/50:  20%|▏| 54/272 [00:10<00:32,  6.73img2021-01-08 15:40:47,152 train.py[line:353] INFO: Train step_1660: loss : 181.003662109375,loss xy : 16.498443603515625,loss wh : 1.767566204071045,loss obj : 148.48342895507812，loss cls : 14.254226684570312,loss l2 : 13.594240188598633,lr : 0.001\n",
      "Epoch 13/50:  35%|▎| 94/272 [00:16<00:26,  6.73img2021-01-08 15:40:52,992 train.py[line:353] INFO: Train step_1680: loss : 140.0078125,loss xy : 5.608728408813477,loss wh : 0.04526887089014053,loss obj : 131.633544921875，loss cls : 2.720280647277832,loss l2 : 2.9057037830352783,lr : 0.001\n",
      "Epoch 13/50:  49%|▍| 134/272 [00:22<00:20,  6.84im2021-01-08 15:40:58,792 train.py[line:353] INFO: Train step_1700: loss : 172.93429565429688,loss xy : 15.610925674438477,loss wh : 2.0364954471588135,loss obj : 147.62542724609375，loss cls : 7.661450386047363,loss l2 : 14.437711715698242,lr : 0.001\n",
      "Epoch 13/50:  64%|▋| 174/272 [00:27<00:13,  7.15im2021-01-08 15:41:04,520 train.py[line:353] INFO: Train step_1720: loss : 137.2246856689453,loss xy : 8.790298461914062,loss wh : 1.0698034763336182,loss obj : 126.0238037109375，loss cls : 1.3407682180404663,loss l2 : 5.505956649780273,lr : 0.001\n",
      "Epoch 13/50:  79%|▊| 214/272 [00:33<00:08,  7.16im2021-01-08 15:41:10,350 train.py[line:353] INFO: Train step_1740: loss : 205.52313232421875,loss xy : 33.19379425048828,loss wh : 1.2134599685668945,loss obj : 165.47364807128906，loss cls : 5.642233371734619,loss l2 : 16.485637664794922,lr : 0.001\n",
      "Epoch 13/50:  93%|▉| 254/272 [00:39<00:02,  7.57im2021-01-08 15:41:16,055 train.py[line:353] INFO: Train step_1760: loss : 204.70213317871094,loss xy : 30.74643325805664,loss wh : 4.450901508331299,loss obj : 160.74830627441406，loss cls : 8.756479263305664,loss l2 : 24.111915588378906,lr : 0.001\n",
      "Epoch 13/50: 100%|█| 272/272 [00:41<00:00,  7.72im2021-01-08 15:41:19,119 train.py[line:364] INFO: Checkpoint 13 saved !\n",
      "Epoch 13/50: 100%|█| 272/272 [00:42<00:00,  6.35im\n",
      "Epoch 14/50:   8%| | 22/272 [00:06<00:48,  5.15img2021-01-08 15:41:25,430 train.py[line:353] INFO: Train step_1780: loss : 157.3409881591797,loss xy : 22.99679946899414,loss wh : 3.3824265003204346,loss obj : 123.42630004882812，loss cls : 7.535457134246826,loss l2 : 15.859208106994629,lr : 0.001\n",
      "Epoch 14/50:  23%|▏| 62/272 [00:12<00:32,  6.43img2021-01-08 15:41:31,503 train.py[line:353] INFO: Train step_1800: loss : 112.46283721923828,loss xy : 5.430898666381836,loss wh : 0.1404215693473816,loss obj : 101.48814392089844，loss cls : 5.403376579284668,loss l2 : 3.452913284301758,lr : 0.001\n",
      "Epoch 14/50:  38%|▍| 102/272 [00:18<00:26,  6.48im2021-01-08 15:41:37,476 train.py[line:353] INFO: Train step_1820: loss : 193.47340393066406,loss xy : 33.25007629394531,loss wh : 2.7831923961639404,loss obj : 143.6933135986328，loss cls : 13.746820449829102,loss l2 : 20.608722686767578,lr : 0.001\n",
      "Epoch 14/50:  52%|▌| 142/272 [00:24<00:18,  6.90im2021-01-08 15:41:43,432 train.py[line:353] INFO: Train step_1840: loss : 120.72898864746094,loss xy : 11.592994689941406,loss wh : 0.702073335647583,loss obj : 103.84762573242188，loss cls : 4.586294174194336,loss l2 : 5.753325462341309,lr : 0.001\n",
      "Epoch 14/50:  67%|▋| 182/272 [00:29<00:13,  6.82im2021-01-08 15:41:49,356 train.py[line:353] INFO: Train step_1860: loss : 111.76817321777344,loss xy : 7.524152755737305,loss wh : 0.18506720662117004,loss obj : 103.93952178955078，loss cls : 0.11942893266677856,loss l2 : 3.8444862365722656,lr : 0.001\n",
      "Epoch 14/50:  82%|▊| 222/272 [00:35<00:07,  6.98im2021-01-08 15:41:55,184 train.py[line:353] INFO: Train step_1880: loss : 132.3290252685547,loss xy : 17.758045196533203,loss wh : 0.7877106666564941,loss obj : 108.10576629638672，loss cls : 5.677502155303955,loss l2 : 8.360157012939453,lr : 0.001\n",
      "Epoch 14/50:  96%|▉| 262/272 [00:41<00:01,  7.69im2021-01-08 15:42:00,616 train.py[line:353] INFO: Train step_1900: loss : 95.8364486694336,loss xy : 4.25758171081543,loss wh : 0.1443265974521637,loss obj : 89.89012908935547，loss cls : 1.5444139242172241,loss l2 : 2.3226888179779053,lr : 0.001\n",
      "Epoch 14/50: 100%|█| 272/272 [00:42<00:00,  7.67im2021-01-08 15:42:02,646 train.py[line:364] INFO: Checkpoint 14 saved !\n",
      "Epoch 14/50: 100%|█| 272/272 [00:43<00:00,  6.25im\n",
      "Epoch 15/50:  11%| | 30/272 [00:06<00:38,  6.30img2021-01-08 15:42:09,911 train.py[line:353] INFO: Train step_1920: loss : 107.78109741210938,loss xy : 12.814881324768066,loss wh : 0.4076046645641327,loss obj : 93.45938873291016，loss cls : 1.0992164611816406,loss l2 : 4.775289535522461,lr : 0.001\n",
      "Epoch 15/50:  26%|▎| 70/272 [00:12<00:29,  6.87img2021-01-08 15:42:15,938 train.py[line:353] INFO: Train step_1940: loss : 121.7847671508789,loss xy : 14.186484336853027,loss wh : 2.159775733947754,loss obj : 103.82225799560547，loss cls : 1.6162489652633667,loss l2 : 10.224983215332031,lr : 0.001\n",
      "Epoch 15/50:  40%|▍| 110/272 [00:19<00:24,  6.74im2021-01-08 15:42:22,001 train.py[line:353] INFO: Train step_1960: loss : 177.88607788085938,loss xy : 31.004968643188477,loss wh : 9.0139799118042,loss obj : 128.58897399902344，loss cls : 9.278152465820312,loss l2 : 31.406227111816406,lr : 0.001\n",
      "Epoch 15/50:  55%|▌| 150/272 [00:25<00:18,  6.75im2021-01-08 15:42:27,984 train.py[line:353] INFO: Train step_1980: loss : 115.39363098144531,loss xy : 13.396076202392578,loss wh : 0.39792340993881226,loss obj : 97.54072570800781，loss cls : 4.058903694152832,loss l2 : 8.401737213134766,lr : 0.001\n",
      "Epoch 15/50:  70%|▋| 190/272 [00:30<00:11,  6.95im2021-01-08 15:42:33,892 train.py[line:353] INFO: Train step_2000: loss : 88.65724182128906,loss xy : 7.390182018280029,loss wh : 0.3597564399242401,loss obj : 80.75375366210938，loss cls : 0.15354636311531067,loss l2 : 3.140692949295044,lr : 0.001\n",
      "Epoch 15/50:  85%|▊| 230/272 [00:36<00:06,  6.74im2021-01-08 15:42:39,755 train.py[line:353] INFO: Train step_2020: loss : 78.27300262451172,loss xy : 3.2820587158203125,loss wh : 0.08730033040046692,loss obj : 74.87541198730469，loss cls : 0.028227901086211205,loss l2 : 0.4066615700721741,lr : 0.001\n",
      "Epoch 15/50:  99%|▉| 270/272 [00:42<00:00,  7.72im2021-01-08 15:42:45,065 train.py[line:353] INFO: Train step_2040: loss : 101.2030029296875,loss xy : 11.955962181091309,loss wh : 0.35380321741104126,loss obj : 84.48558807373047，loss cls : 4.407645225524902,loss l2 : 7.878472805023193,lr : 0.001\n",
      "Epoch 15/50: 100%|█| 272/272 [00:42<00:00,  7.72im2021-01-08 15:42:46,007 train.py[line:364] INFO: Checkpoint 15 saved !\n",
      "Epoch 15/50: 100%|█| 272/272 [00:43<00:00,  6.27im\n",
      "Epoch 16/50:  14%|▏| 38/272 [00:08<00:34,  6.82img2021-01-08 15:42:54,352 train.py[line:353] INFO: Train step_2060: loss : 147.6923370361328,loss xy : 28.03286361694336,loss wh : 1.178956151008606,loss obj : 116.54345703125，loss cls : 1.9370594024658203,loss l2 : 14.015541076660156,lr : 0.001\n",
      "Epoch 16/50:  29%|▎| 78/272 [00:14<00:29,  6.56img2021-01-08 15:43:00,369 train.py[line:353] INFO: Train step_2080: loss : 100.85554504394531,loss xy : 18.834701538085938,loss wh : 0.3743336498737335,loss obj : 79.84138488769531，loss cls : 1.8051238059997559,loss l2 : 4.9057936668396,lr : 0.001\n",
      "Epoch 16/50:  43%|▍| 118/272 [00:19<00:21,  7.12im2021-01-08 15:43:06,141 train.py[line:353] INFO: Train step_2100: loss : 125.53901672363281,loss xy : 21.92824363708496,loss wh : 1.1982347965240479,loss obj : 95.56151580810547，loss cls : 6.851019859313965,loss l2 : 12.273526191711426,lr : 0.001\n",
      "Epoch 16/50:  58%|▌| 158/272 [00:25<00:16,  6.82im2021-01-08 15:43:12,079 train.py[line:353] INFO: Train step_2120: loss : 174.20538330078125,loss xy : 35.20784378051758,loss wh : 2.0006790161132812,loss obj : 127.23168182373047，loss cls : 9.765176773071289,loss l2 : 19.527769088745117,lr : 0.001\n",
      "Epoch 16/50:  73%|▋| 198/272 [00:31<00:10,  7.00im2021-01-08 15:43:17,965 train.py[line:353] INFO: Train step_2140: loss : 209.27777099609375,loss xy : 42.91744613647461,loss wh : 13.188912391662598,loss obj : 127.88658142089844，loss cls : 25.284839630126953,loss l2 : 50.351829528808594,lr : 0.001\n",
      "Epoch 16/50:  88%|▉| 238/272 [00:37<00:04,  6.91im2021-01-08 15:43:23,833 train.py[line:353] INFO: Train step_2160: loss : 410.30780029296875,loss xy : 103.03013610839844,loss wh : 19.120325088500977,loss obj : 277.111572265625，loss cls : 11.045788764953613,loss l2 : 82.07929229736328,lr : 0.001\n",
      "Epoch 16/50: 100%|█| 272/272 [00:41<00:00,  7.73im2021-01-08 15:43:28,954 train.py[line:364] INFO: Checkpoint 16 saved !\n",
      "Epoch 16/50: 100%|█| 272/272 [00:42<00:00,  6.33im\n",
      "Epoch 17/50:   2%| | 6/272 [00:03<03:05,  1.43img/2021-01-08 15:43:32,451 train.py[line:353] INFO: Train step_2180: loss : 114.79438781738281,loss xy : 16.53884506225586,loss wh : 0.4537588357925415,loss obj : 96.04336547851562，loss cls : 1.7584234476089478,loss l2 : 9.804315567016602,lr : 0.001\n",
      "Epoch 17/50:  17%|▏| 46/272 [00:09<00:39,  5.77img2021-01-08 15:43:38,708 train.py[line:353] INFO: Train step_2200: loss : 342.6737060546875,loss xy : 78.36373901367188,loss wh : 10.22315788269043,loss obj : 241.52609252929688，loss cls : 12.560731887817383,loss l2 : 58.99161148071289,lr : 0.001\n",
      "Epoch 17/50:  32%|▎| 86/272 [00:15<00:27,  6.83img2021-01-08 15:43:44,909 train.py[line:353] INFO: Train step_2220: loss : 270.35833740234375,loss xy : 66.47825622558594,loss wh : 5.14285945892334,loss obj : 165.20892333984375，loss cls : 33.528289794921875,loss l2 : 46.69055938720703,lr : 0.001\n",
      "Epoch 17/50:  46%|▍| 126/272 [00:21<00:21,  6.83im2021-01-08 15:43:50,786 train.py[line:353] INFO: Train step_2240: loss : 121.44882202148438,loss xy : 17.26595687866211,loss wh : 4.9672956466674805,loss obj : 86.81268310546875，loss cls : 12.402885437011719,loss l2 : 19.206228256225586,lr : 0.001\n",
      "Epoch 17/50:  61%|▌| 166/272 [00:27<00:15,  6.84im2021-01-08 15:43:56,644 train.py[line:353] INFO: Train step_2260: loss : 150.19944763183594,loss xy : 34.4156494140625,loss wh : 2.3280839920043945,loss obj : 107.58932495117188，loss cls : 5.866393566131592,loss l2 : 19.120162963867188,lr : 0.001\n",
      "Epoch 17/50:  76%|▊| 206/272 [00:33<00:09,  6.67im2021-01-08 15:44:02,584 train.py[line:353] INFO: Train step_2280: loss : 95.19830322265625,loss xy : 15.184972763061523,loss wh : 1.0967509746551514,loss obj : 76.2783203125，loss cls : 2.6382603645324707,loss l2 : 8.921870231628418,lr : 0.001\n",
      "Epoch 17/50:  90%|▉| 246/272 [00:39<00:03,  7.42im2021-01-08 15:44:08,270 train.py[line:353] INFO: Train step_2300: loss : 73.00860595703125,loss xy : 6.493898391723633,loss wh : 0.3325069546699524,loss obj : 64.02982330322266，loss cls : 2.152374744415283,loss l2 : 6.063458442687988,lr : 0.001\n",
      "Epoch 17/50: 100%|█| 272/272 [00:42<00:00,  7.61im2021-01-08 15:44:12,399 train.py[line:364] INFO: Checkpoint 17 saved !\n",
      "Epoch 17/50: 100%|█| 272/272 [00:43<00:00,  6.26im\n",
      "Epoch 18/50:   5%| | 14/272 [00:04<01:06,  3.86img2021-01-08 15:44:16,970 train.py[line:353] INFO: Train step_2320: loss : 99.5909652709961,loss xy : 14.719512939453125,loss wh : 1.575130820274353,loss obj : 72.56425476074219，loss cls : 10.732065200805664,loss l2 : 12.545381546020508,lr : 0.001\n",
      "Epoch 18/50:  20%|▏| 54/272 [00:10<00:32,  6.75img2021-01-08 15:44:22,801 train.py[line:353] INFO: Train step_2340: loss : 141.64691162109375,loss xy : 28.0674991607666,loss wh : 9.431366920471191,loss obj : 97.79817199707031，loss cls : 6.349869251251221,loss l2 : 32.75812530517578,lr : 0.001\n",
      "Epoch 18/50:  35%|▎| 94/272 [00:16<00:26,  6.75img2021-01-08 15:44:28,804 train.py[line:353] INFO: Train step_2360: loss : 51.24844741821289,loss xy : 3.070621967315674,loss wh : 0.1444942057132721,loss obj : 48.021507263183594，loss cls : 0.011827338486909866,loss l2 : 0.5080022215843201,lr : 0.001\n",
      "Epoch 18/50:  49%|▍| 134/272 [00:21<00:19,  6.96im2021-01-08 15:44:34,555 train.py[line:353] INFO: Train step_2380: loss : 50.241817474365234,loss xy : 3.4410996437072754,loss wh : 0.008507578633725643,loss obj : 46.740806579589844，loss cls : 0.05140465497970581,loss l2 : 0.254247784614563,lr : 0.001\n",
      "Epoch 18/50:  64%|▋| 174/272 [00:27<00:14,  6.81im2021-01-08 15:44:40,329 train.py[line:353] INFO: Train step_2400: loss : 69.00169372558594,loss xy : 7.684198379516602,loss wh : 0.25757476687431335,loss obj : 58.80535888671875，loss cls : 2.254561185836792,loss l2 : 5.064167022705078,lr : 0.001\n",
      "Epoch 18/50:  79%|▊| 214/272 [00:33<00:08,  6.89im2021-01-08 15:44:46,131 train.py[line:353] INFO: Train step_2420: loss : 115.70262145996094,loss xy : 25.523231506347656,loss wh : 1.8370304107666016,loss obj : 82.09260559082031，loss cls : 6.249757289886475,loss l2 : 14.375748634338379,lr : 0.001\n",
      "Epoch 18/50:  93%|▉| 254/272 [00:39<00:02,  7.63im2021-01-08 15:44:51,738 train.py[line:353] INFO: Train step_2440: loss : 139.93731689453125,loss xy : 32.74566650390625,loss wh : 16.948598861694336,loss obj : 85.38371276855469，loss cls : 4.859351634979248,loss l2 : 47.15286636352539,lr : 0.001\n",
      "Epoch 18/50: 100%|█| 272/272 [00:41<00:00,  7.51im2021-01-08 15:44:54,875 train.py[line:364] INFO: Checkpoint 18 saved !\n",
      "Epoch 18/50: 100%|█| 272/272 [00:42<00:00,  6.40im\n",
      "Epoch 19/50:   8%| | 22/272 [00:05<00:45,  5.54img2021-01-08 15:45:00,921 train.py[line:353] INFO: Train step_2460: loss : 57.22502136230469,loss xy : 9.84012508392334,loss wh : 0.1441490650177002,loss obj : 46.42646408081055，loss cls : 0.8142841458320618,loss l2 : 1.8877100944519043,lr : 0.001\n",
      "Epoch 19/50:  23%|▏| 62/272 [00:11<00:31,  6.68img2021-01-08 15:45:07,103 train.py[line:353] INFO: Train step_2480: loss : 79.21026611328125,loss xy : 14.409747123718262,loss wh : 0.2907872796058655,loss obj : 50.884552001953125，loss cls : 13.625181198120117,loss l2 : 8.642694473266602,lr : 0.001\n",
      "Epoch 19/50:  38%|▍| 102/272 [00:17<00:25,  6.63im2021-01-08 15:45:13,068 train.py[line:353] INFO: Train step_2500: loss : 51.607112884521484,loss xy : 2.9393792152404785,loss wh : 0.3763606548309326,loss obj : 48.17523193359375，loss cls : 0.11614067107439041,loss l2 : 2.005941152572632,lr : 0.001\n",
      "Epoch 19/50:  52%|▌| 142/272 [00:23<00:18,  6.90im2021-01-08 15:45:18,924 train.py[line:353] INFO: Train step_2520: loss : 54.160892486572266,loss xy : 3.5471153259277344,loss wh : 0.10689915716648102,loss obj : 50.485870361328125，loss cls : 0.021005775779485703,loss l2 : 0.4252484440803528,lr : 0.001\n",
      "Epoch 19/50:  67%|▋| 182/272 [00:29<00:13,  6.86im2021-01-08 15:45:24,722 train.py[line:353] INFO: Train step_2540: loss : 90.08363342285156,loss xy : 14.989866256713867,loss wh : 0.9573924541473389,loss obj : 73.17652130126953，loss cls : 0.9598538875579834,loss l2 : 8.373924255371094,lr : 0.001\n",
      "Epoch 19/50:  82%|▊| 222/272 [00:35<00:07,  6.66im2021-01-08 15:45:30,559 train.py[line:353] INFO: Train step_2560: loss : 64.69893646240234,loss xy : 8.676998138427734,loss wh : 0.42308881878852844,loss obj : 54.82206344604492，loss cls : 0.7767845392227173,loss l2 : 3.5015461444854736,lr : 0.001\n",
      "Epoch 19/50:  96%|▉| 262/272 [00:40<00:01,  7.67im2021-01-08 15:45:36,060 train.py[line:353] INFO: Train step_2580: loss : 113.54756927490234,loss xy : 30.026891708374023,loss wh : 2.169618606567383,loss obj : 76.18463897705078，loss cls : 5.166421890258789,loss l2 : 14.897933006286621,lr : 0.001\n",
      "Epoch 19/50: 100%|█| 272/272 [00:42<00:00,  7.71im2021-01-08 15:45:38,126 train.py[line:364] INFO: Checkpoint 19 saved !\n",
      "Epoch 19/50: 100%|█| 272/272 [00:43<00:00,  6.29im\n",
      "Epoch 20/50:  11%| | 30/272 [00:06<00:41,  5.87img2021-01-08 15:45:45,200 train.py[line:353] INFO: Train step_2600: loss : 48.93803787231445,loss xy : 8.140517234802246,loss wh : 0.31736326217651367,loss obj : 40.31913757324219，loss cls : 0.1610226333141327,loss l2 : 1.5175037384033203,lr : 0.001\n",
      "Epoch 20/50:  26%|▎| 70/272 [00:12<00:30,  6.53img2021-01-08 15:45:51,355 train.py[line:353] INFO: Train step_2620: loss : 50.05297088623047,loss xy : 4.798831939697266,loss wh : 0.049759864807128906,loss obj : 45.13020324707031，loss cls : 0.07417544722557068,loss l2 : 2.616048812866211,lr : 0.001\n",
      "Epoch 20/50:  40%|▍| 110/272 [00:18<00:22,  7.14im2021-01-08 15:45:57,131 train.py[line:353] INFO: Train step_2640: loss : 79.09479522705078,loss xy : 20.621238708496094,loss wh : 1.2711583375930786,loss obj : 54.07373046875，loss cls : 3.1286699771881104,loss l2 : 8.788800239562988,lr : 0.001\n",
      "Epoch 20/50:  55%|▌| 150/272 [00:24<00:17,  6.79im2021-01-08 15:46:02,994 train.py[line:353] INFO: Train step_2660: loss : 82.57994079589844,loss xy : 21.49919891357422,loss wh : 2.732879400253296,loss obj : 56.9583740234375，loss cls : 1.3894867897033691,loss l2 : 11.481620788574219,lr : 0.001\n",
      "Epoch 20/50:  70%|▋| 190/272 [00:30<00:12,  6.75im2021-01-08 15:46:08,917 train.py[line:353] INFO: Train step_2680: loss : 163.3108367919922,loss xy : 43.46797561645508,loss wh : 9.068832397460938,loss obj : 90.46912384033203，loss cls : 20.304901123046875,loss l2 : 39.339141845703125,lr : 0.001\n",
      "Epoch 20/50:  85%|▊| 230/272 [00:36<00:06,  6.76im2021-01-08 15:46:14,778 train.py[line:353] INFO: Train step_2700: loss : 282.31134033203125,loss xy : 93.73820495605469,loss wh : 9.371007919311523,loss obj : 160.03567504882812，loss cls : 19.166444778442383,loss l2 : 55.63542938232422,lr : 0.001\n",
      "Epoch 20/50:  99%|▉| 270/272 [00:41<00:00,  7.69im2021-01-08 15:46:20,077 train.py[line:353] INFO: Train step_2720: loss : 103.4784164428711,loss xy : 25.662504196166992,loss wh : 1.3979415893554688,loss obj : 65.26057434082031，loss cls : 11.157393455505371,loss l2 : 13.374212265014648,lr : 0.001\n",
      "Epoch 20/50: 100%|█| 272/272 [00:41<00:00,  7.65im2021-01-08 15:46:21,082 train.py[line:364] INFO: Checkpoint 20 saved !\n",
      "Epoch 20/50: 100%|█| 272/272 [00:42<00:00,  6.33im\n",
      "Epoch 21/50:  14%|▏| 38/272 [00:08<00:35,  6.60img2021-01-08 15:46:29,723 train.py[line:353] INFO: Train step_2740: loss : 157.2466278076172,loss xy : 43.316383361816406,loss wh : 3.7769322395324707,loss obj : 105.29072570800781，loss cls : 4.862593173980713,loss l2 : 24.755517959594727,lr : 0.001\n",
      "Epoch 21/50:  29%|▎| 78/272 [00:14<00:27,  6.97img2021-01-08 15:46:35,785 train.py[line:353] INFO: Train step_2760: loss : 36.89436721801758,loss xy : 2.8802103996276855,loss wh : 0.08012519776821136,loss obj : 33.70885467529297，loss cls : 0.22517894208431244,loss l2 : 0.45287370681762695,lr : 0.001\n",
      "Epoch 21/50:  43%|▍| 118/272 [00:20<00:22,  6.96im2021-01-08 15:46:41,565 train.py[line:353] INFO: Train step_2780: loss : 36.033687591552734,loss xy : 3.830134868621826,loss wh : 0.10517919063568115,loss obj : 31.97323989868164，loss cls : 0.12513311207294464,loss l2 : 0.5261197686195374,lr : 0.001\n",
      "Epoch 21/50:  58%|▌| 158/272 [00:25<00:16,  6.80im2021-01-08 15:46:47,325 train.py[line:353] INFO: Train step_2800: loss : 44.09687042236328,loss xy : 8.652910232543945,loss wh : 0.09089066833257675,loss obj : 34.89699935913086，loss cls : 0.4560709297657013,loss l2 : 1.8553135395050049,lr : 0.001\n",
      "Epoch 21/50:  73%|▋| 198/272 [00:31<00:10,  6.97im2021-01-08 15:46:53,035 train.py[line:353] INFO: Train step_2820: loss : 80.34618377685547,loss xy : 22.39596939086914,loss wh : 0.6552817225456238,loss obj : 55.880550384521484，loss cls : 1.4143822193145752,loss l2 : 8.384193420410156,lr : 0.001\n",
      "Epoch 21/50:  88%|▉| 238/272 [00:37<00:04,  7.00im2021-01-08 15:46:58,799 train.py[line:353] INFO: Train step_2840: loss : 33.037174224853516,loss xy : 2.95937180519104,loss wh : 0.13243341445922852,loss obj : 29.89787483215332，loss cls : 0.047492075711488724,loss l2 : 0.4294102191925049,lr : 0.001\n",
      "Epoch 21/50: 100%|█| 272/272 [00:41<00:00,  7.80im2021-01-08 15:47:03,956 train.py[line:364] INFO: Checkpoint 21 saved !\n",
      "Epoch 21/50: 100%|█| 272/272 [00:42<00:00,  6.34im\n",
      "Epoch 22/50:   2%| | 6/272 [00:03<03:18,  1.34img/2021-01-08 15:47:07,624 train.py[line:353] INFO: Train step_2860: loss : 41.15147018432617,loss xy : 4.203709602355957,loss wh : 0.2130393087863922,loss obj : 36.726932525634766，loss cls : 0.007788422051817179,loss l2 : 2.583038568496704,lr : 0.001\n",
      "Epoch 22/50:  17%|▏| 46/272 [00:09<00:35,  6.42img2021-01-08 15:47:13,587 train.py[line:353] INFO: Train step_2880: loss : 32.09281921386719,loss xy : 3.585419178009033,loss wh : 0.04611379653215408,loss obj : 28.360763549804688，loss cls : 0.10052318125963211,loss l2 : 0.26589155197143555,lr : 0.001\n",
      "Epoch 22/50:  32%|▎| 86/272 [00:15<00:27,  6.78img2021-01-08 15:47:19,610 train.py[line:353] INFO: Train step_2900: loss : 56.25231170654297,loss xy : 13.64358901977539,loss wh : 0.7959234118461609,loss obj : 40.39021301269531，loss cls : 1.4225850105285645,loss l2 : 6.084780693054199,lr : 0.001\n",
      "Epoch 22/50:  46%|▍| 126/272 [00:21<00:21,  6.67im2021-01-08 15:47:25,441 train.py[line:353] INFO: Train step_2920: loss : 82.78828430175781,loss xy : 23.285358428955078,loss wh : 1.5630534887313843,loss obj : 51.637184143066406，loss cls : 6.302685737609863,loss l2 : 11.541938781738281,lr : 0.001\n",
      "Epoch 22/50:  61%|▌| 166/272 [00:27<00:16,  6.55im2021-01-08 15:47:31,501 train.py[line:353] INFO: Train step_2940: loss : 30.92792510986328,loss xy : 2.7915470600128174,loss wh : 0.09332186728715897,loss obj : 27.945873260498047，loss cls : 0.0971839427947998,loss l2 : 0.7339938282966614,lr : 0.001\n",
      "Epoch 22/50:  76%|▊| 206/272 [00:33<00:09,  6.86im2021-01-08 15:47:37,489 train.py[line:353] INFO: Train step_2960: loss : 42.798583984375,loss xy : 8.272085189819336,loss wh : 0.14147323369979858,loss obj : 33.50605773925781，loss cls : 0.8789657950401306,loss l2 : 2.573249101638794,lr : 0.001\n",
      "Epoch 22/50:  90%|▉| 246/272 [00:39<00:03,  7.13im2021-01-08 15:47:43,256 train.py[line:353] INFO: Train step_2980: loss : 198.7001190185547,loss xy : 62.17760467529297,loss wh : 7.682621955871582,loss obj : 111.1113052368164，loss cls : 17.72859001159668,loss l2 : 40.48586654663086,lr : 0.001\n",
      "Epoch 22/50: 100%|█| 272/272 [00:42<00:00,  7.51im2021-01-08 15:47:47,366 train.py[line:364] INFO: Checkpoint 22 saved !\n",
      "Epoch 22/50: 100%|█| 272/272 [00:43<00:00,  6.27im\n",
      "Epoch 23/50:   5%| | 14/272 [00:04<01:13,  3.53img2021-01-08 15:47:52,097 train.py[line:353] INFO: Train step_3000: loss : 72.82247161865234,loss xy : 20.003610610961914,loss wh : 1.0572307109832764,loss obj : 51.35839080810547，loss cls : 0.40323519706726074,loss l2 : 9.201297760009766,lr : 0.001\n",
      "Epoch 23/50:  20%|▏| 54/272 [00:10<00:36,  6.04img2021-01-08 15:47:58,326 train.py[line:353] INFO: Train step_3020: loss : 173.18460083007812,loss xy : 50.19747543334961,loss wh : 6.796293258666992,loss obj : 91.75849151611328，loss cls : 24.432342529296875,loss l2 : 36.177433013916016,lr : 0.001\n",
      "Epoch 23/50:  35%|▎| 94/272 [00:16<00:27,  6.51img2021-01-08 15:48:04,431 train.py[line:353] INFO: Train step_3040: loss : 39.43259811401367,loss xy : 9.464073181152344,loss wh : 0.24866539239883423,loss obj : 28.88359260559082，loss cls : 0.8362663984298706,loss l2 : 2.6682722568511963,lr : 0.001\n",
      "Epoch 23/50:  49%|▍| 134/272 [00:22<00:21,  6.47im2021-01-08 15:48:10,373 train.py[line:353] INFO: Train step_3060: loss : 139.36915588378906,loss xy : 39.33161926269531,loss wh : 2.0213139057159424,loss obj : 90.10391235351562，loss cls : 7.912310600280762,loss l2 : 20.573945999145508,lr : 0.001\n",
      "Epoch 23/50:  64%|▋| 174/272 [00:28<00:14,  6.72im2021-01-08 15:48:16,284 train.py[line:353] INFO: Train step_3080: loss : 255.91168212890625,loss xy : 83.96971893310547,loss wh : 12.300270080566406,loss obj : 153.41534423828125，loss cls : 6.226346492767334,loss l2 : 55.18295669555664,lr : 0.001\n",
      "Epoch 23/50:  79%|▊| 214/272 [00:34<00:09,  6.34im2021-01-08 15:48:22,146 train.py[line:353] INFO: Train step_3100: loss : 49.68733215332031,loss xy : 15.036382675170898,loss wh : 0.449705570936203,loss obj : 34.15129089355469，loss cls : 0.04995247721672058,loss l2 : 5.298229694366455,lr : 0.001\n",
      "Epoch 23/50:  93%|▉| 254/272 [00:40<00:02,  7.56im2021-01-08 15:48:27,689 train.py[line:353] INFO: Train step_3120: loss : 63.36920928955078,loss xy : 14.915364265441895,loss wh : 0.8077701330184937,loss obj : 43.737972259521484，loss cls : 3.9081037044525146,loss l2 : 8.592134475708008,lr : 0.001\n",
      "Epoch 23/50: 100%|█| 272/272 [00:42<00:00,  7.64im2021-01-08 15:48:30,772 train.py[line:364] INFO: Checkpoint 23 saved !\n",
      "Epoch 23/50: 100%|█| 272/272 [00:43<00:00,  6.27im\n",
      "Epoch 24/50:   8%| | 22/272 [00:06<00:45,  5.49img2021-01-08 15:48:37,199 train.py[line:353] INFO: Train step_3140: loss : 87.84027099609375,loss xy : 24.096824645996094,loss wh : 1.830864667892456,loss obj : 57.02252960205078，loss cls : 4.890050888061523,loss l2 : 12.9209566116333,lr : 0.001\n",
      "Epoch 24/50:  23%|▏| 62/272 [00:12<00:32,  6.48img2021-01-08 15:48:43,241 train.py[line:353] INFO: Train step_3160: loss : 35.38542556762695,loss xy : 5.325071334838867,loss wh : 0.25248122215270996,loss obj : 29.793441772460938，loss cls : 0.014431925490498543,loss l2 : 3.152320384979248,lr : 0.001\n",
      "Epoch 24/50:  38%|▍| 102/272 [00:17<00:24,  7.01im2021-01-08 15:48:49,009 train.py[line:353] INFO: Train step_3180: loss : 184.46499633789062,loss xy : 52.339454650878906,loss wh : 8.914876937866211,loss obj : 110.62317657470703，loss cls : 12.587491035461426,loss l2 : 38.47821807861328,lr : 0.001\n",
      "Epoch 24/50:  52%|▌| 142/272 [00:23<00:18,  6.94im2021-01-08 15:48:54,893 train.py[line:353] INFO: Train step_3200: loss : 61.9411506652832,loss xy : 18.329824447631836,loss wh : 0.6378037929534912,loss obj : 38.696380615234375，loss cls : 4.27714204788208,loss l2 : 8.640389442443848,lr : 0.001\n",
      "Epoch 24/50:  67%|▋| 182/272 [00:29<00:13,  6.79im2021-01-08 15:49:00,893 train.py[line:353] INFO: Train step_3220: loss : 25.872209548950195,loss xy : 2.97344970703125,loss wh : 0.09526635706424713,loss obj : 22.634809494018555，loss cls : 0.16868440806865692,loss l2 : 0.678118884563446,lr : 0.001\n",
      "Epoch 24/50:  82%|▊| 222/272 [00:35<00:07,  6.79im2021-01-08 15:49:06,832 train.py[line:353] INFO: Train step_3240: loss : 53.23487091064453,loss xy : 13.066215515136719,loss wh : 2.3572304248809814,loss obj : 29.908706665039062，loss cls : 7.9027180671691895,loss l2 : 9.36890983581543,lr : 0.001\n",
      "Epoch 24/50:  96%|▉| 262/272 [00:41<00:01,  7.62im2021-01-08 15:49:12,316 train.py[line:353] INFO: Train step_3260: loss : 26.25334358215332,loss xy : 3.135983943939209,loss wh : 0.05647614970803261,loss obj : 22.933639526367188，loss cls : 0.1272457391023636,loss l2 : 0.8483723402023315,lr : 0.001\n",
      "Epoch 24/50: 100%|█| 272/272 [00:42<00:00,  7.75im2021-01-08 15:49:14,363 train.py[line:364] INFO: Checkpoint 24 saved !\n",
      "Epoch 24/50: 100%|█| 272/272 [00:43<00:00,  6.24im\n",
      "Epoch 25/50:  11%| | 30/272 [00:07<00:38,  6.34img2021-01-08 15:49:22,115 train.py[line:353] INFO: Train step_3280: loss : 36.15286636352539,loss xy : 11.143512725830078,loss wh : 0.1731589287519455,loss obj : 21.474897384643555，loss cls : 3.3612985610961914,loss l2 : 2.4343037605285645,lr : 0.001\n",
      "Epoch 25/50:  26%|▎| 70/272 [00:13<00:30,  6.59img2021-01-08 15:49:28,429 train.py[line:353] INFO: Train step_3300: loss : 90.08528137207031,loss xy : 20.01694679260254,loss wh : 1.6628315448760986,loss obj : 60.96249771118164，loss cls : 7.443005561828613,loss l2 : 17.68482208251953,lr : 0.001\n",
      "Epoch 25/50:  40%|▍| 110/272 [00:19<00:23,  6.80im2021-01-08 15:49:34,371 train.py[line:353] INFO: Train step_3320: loss : 73.80363464355469,loss xy : 19.757545471191406,loss wh : 0.7831546068191528,loss obj : 46.77118682861328，loss cls : 6.49174690246582,loss l2 : 9.204204559326172,lr : 0.001\n",
      "Epoch 25/50:  55%|▌| 150/272 [00:25<00:17,  7.14im2021-01-08 15:49:40,011 train.py[line:353] INFO: Train step_3340: loss : 22.902179718017578,loss xy : 3.277045249938965,loss wh : 0.030882148072123528,loss obj : 19.58650779724121，loss cls : 0.007744603790342808,loss l2 : 0.2139139026403427,lr : 0.001\n",
      "Epoch 25/50:  70%|▋| 190/272 [00:31<00:12,  6.65im2021-01-08 15:49:45,898 train.py[line:353] INFO: Train step_3360: loss : 44.96310806274414,loss xy : 9.870735168457031,loss wh : 0.21786801517009735,loss obj : 26.24287223815918，loss cls : 8.631634712219238,loss l2 : 5.516800403594971,lr : 0.001\n",
      "Epoch 25/50:  85%|▊| 230/272 [00:37<00:06,  6.92im2021-01-08 15:49:51,925 train.py[line:353] INFO: Train step_3380: loss : 57.36825180053711,loss xy : 13.280746459960938,loss wh : 0.21065165102481842,loss obj : 38.76874923706055，loss cls : 5.1081037521362305,loss l2 : 6.9108781814575195,lr : 0.001\n",
      "Epoch 25/50:  99%|▉| 270/272 [00:42<00:00,  7.69im2021-01-08 15:49:57,304 train.py[line:353] INFO: Train step_3400: loss : 62.40192413330078,loss xy : 18.522584915161133,loss wh : 1.9155449867248535,loss obj : 40.104610443115234，loss cls : 1.8591830730438232,loss l2 : 10.52952766418457,lr : 0.001\n",
      "Epoch 25/50: 100%|█| 272/272 [00:42<00:00,  7.64im2021-01-08 15:49:58,316 train.py[line:364] INFO: Checkpoint 25 saved !\n",
      "Epoch 25/50: 100%|█| 272/272 [00:43<00:00,  6.19im\n",
      "Epoch 26/50:  14%|▏| 38/272 [00:08<00:33,  7.06img2021-01-08 15:50:06,695 train.py[line:353] INFO: Train step_3420: loss : 110.27520751953125,loss xy : 43.85488510131836,loss wh : 2.319535255432129,loss obj : 62.237823486328125，loss cls : 1.8629587888717651,loss l2 : 16.72168731689453,lr : 0.001\n",
      "Epoch 26/50:  29%|▎| 78/272 [00:14<00:30,  6.40img2021-01-08 15:50:12,958 train.py[line:353] INFO: Train step_3440: loss : 71.74300384521484,loss xy : 15.229684829711914,loss wh : 17.421510696411133,loss obj : 33.02486801147461，loss cls : 6.066938400268555,loss l2 : 41.37052536010742,lr : 0.001\n",
      "Epoch 26/50:  43%|▍| 118/272 [00:20<00:21,  7.12im2021-01-08 15:50:18,699 train.py[line:353] INFO: Train step_3460: loss : 37.326446533203125,loss xy : 13.02619457244873,loss wh : 0.14064954221248627,loss obj : 23.743711471557617，loss cls : 0.4158881902694702,loss l2 : 2.650705099105835,lr : 0.001\n",
      "Epoch 26/50:  58%|▌| 158/272 [00:25<00:15,  7.16im2021-01-08 15:50:24,406 train.py[line:353] INFO: Train step_3480: loss : 105.14612579345703,loss xy : 32.79456329345703,loss wh : 5.019467353820801,loss obj : 64.89288330078125，loss cls : 2.4392194747924805,loss l2 : 21.429866790771484,lr : 0.001\n",
      "Epoch 26/50:  73%|▋| 198/272 [00:31<00:10,  6.80im2021-01-08 15:50:30,179 train.py[line:353] INFO: Train step_3500: loss : 123.38185119628906,loss xy : 42.018104553222656,loss wh : 4.803923606872559,loss obj : 70.22769927978516，loss cls : 6.332125663757324,loss l2 : 24.27228546142578,lr : 0.001\n",
      "Epoch 26/50:  88%|▉| 238/272 [00:37<00:04,  7.05im2021-01-08 15:50:35,992 train.py[line:353] INFO: Train step_3520: loss : 22.811227798461914,loss xy : 4.013981819152832,loss wh : 0.09371510148048401,loss obj : 18.4696102142334，loss cls : 0.23392148315906525,loss l2 : 1.4110630750656128,lr : 0.001\n",
      "Epoch 26/50: 100%|█| 272/272 [00:41<00:00,  7.68im2021-01-08 15:50:41,172 train.py[line:364] INFO: Checkpoint 26 saved !\n",
      "Epoch 26/50: 100%|█| 272/272 [00:42<00:00,  6.35im\n",
      "Epoch 27/50:   2%| | 6/272 [00:03<03:07,  1.42img/2021-01-08 15:50:44,690 train.py[line:353] INFO: Train step_3540: loss : 32.60173797607422,loss xy : 8.001788139343262,loss wh : 0.3986240029335022,loss obj : 24.181182861328125，loss cls : 0.02014114335179329,loss l2 : 3.615097999572754,lr : 0.001\n",
      "Epoch 27/50:  17%|▏| 46/272 [00:09<00:37,  6.00img2021-01-08 15:50:50,960 train.py[line:353] INFO: Train step_3560: loss : 100.89909362792969,loss xy : 27.960851669311523,loss wh : 3.3015267848968506,loss obj : 60.12157440185547，loss cls : 9.515134811401367,loss l2 : 18.194122314453125,lr : 0.001\n",
      "Epoch 27/50:  32%|▎| 86/272 [00:15<00:27,  6.76img2021-01-08 15:50:56,855 train.py[line:353] INFO: Train step_3580: loss : 73.74300384521484,loss xy : 25.41690444946289,loss wh : 0.7918689250946045,loss obj : 46.486698150634766，loss cls : 1.047528862953186,loss l2 : 8.629329681396484,lr : 0.001\n",
      "Epoch 27/50:  46%|▍| 126/272 [00:21<00:22,  6.62im2021-01-08 15:51:02,722 train.py[line:353] INFO: Train step_3600: loss : 33.228050231933594,loss xy : 5.284348487854004,loss wh : 0.11862768977880478,loss obj : 26.96508026123047，loss cls : 0.8599931001663208,loss l2 : 1.9285964965820312,lr : 0.001\n",
      "Epoch 27/50:  61%|▌| 166/272 [00:27<00:16,  6.54im2021-01-08 15:51:08,827 train.py[line:353] INFO: Train step_3620: loss : 84.81459045410156,loss xy : 20.442502975463867,loss wh : 1.7842895984649658,loss obj : 57.69430923461914，loss cls : 4.893484115600586,loss l2 : 13.730793952941895,lr : 0.001\n",
      "Epoch 27/50:  76%|▊| 206/272 [00:33<00:10,  6.59im2021-01-08 15:51:14,715 train.py[line:353] INFO: Train step_3640: loss : 83.10095977783203,loss xy : 24.269641876220703,loss wh : 3.1025023460388184,loss obj : 50.576194763183594，loss cls : 5.1526198387146,loss l2 : 16.935569763183594,lr : 0.001\n",
      "Epoch 27/50:  90%|▉| 246/272 [00:39<00:03,  7.29im2021-01-08 15:51:20,517 train.py[line:353] INFO: Train step_3660: loss : 33.63982391357422,loss xy : 8.750472068786621,loss wh : 0.23670564591884613,loss obj : 24.188331604003906，loss cls : 0.4643150568008423,loss l2 : 3.4705698490142822,lr : 0.001\n",
      "Epoch 27/50: 100%|█| 272/272 [00:42<00:00,  7.66im2021-01-08 15:51:24,664 train.py[line:364] INFO: Checkpoint 27 saved !\n",
      "Epoch 27/50: 100%|█| 272/272 [00:43<00:00,  6.25im\n",
      "Epoch 28/50:   5%| | 14/272 [00:04<01:17,  3.33img2021-01-08 15:51:29,699 train.py[line:353] INFO: Train step_3680: loss : 39.73958969116211,loss xy : 7.365317344665527,loss wh : 0.31647011637687683,loss obj : 32.01225662231445，loss cls : 0.045542798936367035,loss l2 : 4.674252510070801,lr : 0.001\n",
      "Epoch 28/50:  20%|▏| 54/272 [00:10<00:33,  6.54img2021-01-08 15:51:35,755 train.py[line:353] INFO: Train step_3700: loss : 50.869972229003906,loss xy : 19.303319931030273,loss wh : 0.326383113861084,loss obj : 30.790435791015625，loss cls : 0.44983333349227905,loss l2 : 4.7411909103393555,lr : 0.001\n",
      "Epoch 28/50:  35%|▎| 94/272 [00:16<00:26,  6.65img2021-01-08 15:51:41,703 train.py[line:353] INFO: Train step_3720: loss : 88.1115493774414,loss xy : 28.55535125732422,loss wh : 1.879903793334961,loss obj : 45.46765899658203，loss cls : 12.208634376525879,loss l2 : 15.76987075805664,lr : 0.001\n",
      "Epoch 28/50:  49%|▍| 134/272 [00:22<00:20,  6.58im2021-01-08 15:51:47,598 train.py[line:353] INFO: Train step_3740: loss : 81.0975112915039,loss xy : 31.508255004882812,loss wh : 1.7298673391342163,loss obj : 46.02903747558594，loss cls : 1.8303520679473877,loss l2 : 13.257200241088867,lr : 0.001\n",
      "Epoch 28/50:  64%|▋| 174/272 [00:28<00:15,  6.51im2021-01-08 15:51:53,687 train.py[line:353] INFO: Train step_3760: loss : 44.23748016357422,loss xy : 14.321271896362305,loss wh : 0.5211937427520752,loss obj : 29.156970977783203，loss cls : 0.23804345726966858,loss l2 : 5.623593330383301,lr : 0.001\n",
      "Epoch 28/50:  79%|▊| 214/272 [00:34<00:08,  6.72im2021-01-08 15:51:59,744 train.py[line:353] INFO: Train step_3780: loss : 28.599822998046875,loss xy : 7.6630859375,loss wh : 0.19703008234500885,loss obj : 18.803924560546875，loss cls : 1.935783863067627,loss l2 : 2.986213207244873,lr : 0.001\n",
      "Epoch 28/50:  93%|▉| 254/272 [00:40<00:02,  7.48im2021-01-08 15:52:05,368 train.py[line:353] INFO: Train step_3800: loss : 37.1278076171875,loss xy : 17.298667907714844,loss wh : 0.4610101580619812,loss obj : 18.5351505279541，loss cls : 0.8329772353172302,loss l2 : 2.6618809700012207,lr : 0.001\n",
      "Epoch 28/50: 100%|█| 272/272 [00:42<00:00,  7.76im2021-01-08 15:52:08,445 train.py[line:364] INFO: Checkpoint 28 saved !\n",
      "Epoch 28/50: 100%|█| 272/272 [00:43<00:00,  6.21im\n",
      "Epoch 29/50:   8%| | 22/272 [00:05<00:43,  5.70img2021-01-08 15:52:14,303 train.py[line:353] INFO: Train step_3820: loss : 58.74147033691406,loss xy : 17.380916595458984,loss wh : 0.3979668617248535,loss obj : 33.69401550292969，loss cls : 7.268568515777588,loss l2 : 7.347649574279785,lr : 0.001\n",
      "Epoch 29/50:  23%|▏| 62/272 [00:11<00:31,  6.59img2021-01-08 15:52:20,223 train.py[line:353] INFO: Train step_3840: loss : 49.43408203125,loss xy : 16.409713745117188,loss wh : 0.9982173442840576,loss obj : 27.830787658691406，loss cls : 4.195367813110352,loss l2 : 7.575815677642822,lr : 0.001\n",
      "Epoch 29/50:  38%|▍| 102/272 [00:17<00:24,  6.95im2021-01-08 15:52:26,098 train.py[line:353] INFO: Train step_3860: loss : 105.19154357910156,loss xy : 30.19194793701172,loss wh : 1.249101996421814,loss obj : 60.10462188720703，loss cls : 13.645872116088867,loss l2 : 18.16234588623047,lr : 0.001\n",
      "Epoch 29/50:  52%|▌| 142/272 [00:23<00:19,  6.50im2021-01-08 15:52:31,976 train.py[line:353] INFO: Train step_3880: loss : 40.2370491027832,loss xy : 12.082830429077148,loss wh : 3.167719841003418,loss obj : 23.387210845947266，loss cls : 1.5992896556854248,loss l2 : 8.767975807189941,lr : 0.001\n",
      "Epoch 29/50:  67%|▋| 182/272 [00:28<00:12,  7.01im2021-01-08 15:52:37,722 train.py[line:353] INFO: Train step_3900: loss : 60.55579376220703,loss xy : 22.56418228149414,loss wh : 0.7195937633514404,loss obj : 33.74419403076172，loss cls : 3.527822971343994,loss l2 : 8.436884880065918,lr : 0.001\n",
      "Epoch 29/50:  82%|▊| 222/272 [00:34<00:07,  6.90im2021-01-08 15:52:43,456 train.py[line:353] INFO: Train step_3920: loss : 25.491701126098633,loss xy : 10.118412017822266,loss wh : 0.1941225528717041,loss obj : 14.806229591369629，loss cls : 0.3729381859302521,loss l2 : 0.8529582023620605,lr : 0.001\n",
      "Epoch 29/50:  96%|▉| 262/272 [00:40<00:01,  7.72im2021-01-08 15:52:49,003 train.py[line:353] INFO: Train step_3940: loss : 151.7777862548828,loss xy : 53.26520538330078,loss wh : 3.9696218967437744,loss obj : 86.386474609375，loss cls : 8.156477928161621,loss l2 : 27.107200622558594,lr : 0.001\n",
      "Epoch 29/50: 100%|█| 272/272 [00:41<00:00,  7.48im2021-01-08 15:52:51,107 train.py[line:364] INFO: Checkpoint 29 saved !\n",
      "Epoch 29/50: 100%|█| 272/272 [00:42<00:00,  6.38im\n",
      "Epoch 30/50:  11%| | 30/272 [00:07<00:41,  5.83img2021-01-08 15:52:58,699 train.py[line:353] INFO: Train step_3960: loss : 58.34397506713867,loss xy : 22.00043487548828,loss wh : 1.3018383979797363,loss obj : 33.89710998535156，loss cls : 1.1445938348770142,loss l2 : 7.708922386169434,lr : 0.001\n",
      "Epoch 30/50:  26%|▎| 70/272 [00:13<00:29,  6.83img2021-01-08 15:53:04,681 train.py[line:353] INFO: Train step_3980: loss : 55.18451690673828,loss xy : 21.970645904541016,loss wh : 1.1491111516952515,loss obj : 29.83960723876953，loss cls : 2.225151538848877,loss l2 : 7.247835159301758,lr : 0.001\n",
      "Epoch 30/50:  40%|▍| 110/272 [00:19<00:25,  6.43im2021-01-08 15:53:10,807 train.py[line:353] INFO: Train step_4000: loss : 123.14797973632812,loss xy : 36.464073181152344,loss wh : 9.762993812561035,loss obj : 64.09469604492188，loss cls : 12.826220512390137,loss l2 : 33.71007537841797,lr : 0.001\n",
      "Epoch 30/50:  55%|▌| 150/272 [00:25<00:18,  6.67im2021-01-08 15:53:16,706 train.py[line:353] INFO: Train step_4020: loss : 54.37957763671875,loss xy : 22.248233795166016,loss wh : 0.6636130213737488,loss obj : 29.08602523803711，loss cls : 2.381704330444336,loss l2 : 7.712397575378418,lr : 0.001\n",
      "Epoch 30/50:  70%|▋| 190/272 [00:31<00:11,  7.19im2021-01-08 15:53:22,564 train.py[line:353] INFO: Train step_4040: loss : 24.058162689208984,loss xy : 10.335333824157715,loss wh : 0.639121413230896,loss obj : 12.90304183959961，loss cls : 0.1806652545928955,loss l2 : 2.2896416187286377,lr : 0.001\n",
      "Epoch 30/50:  85%|▊| 230/272 [00:36<00:06,  6.74im2021-01-08 15:53:28,381 train.py[line:353] INFO: Train step_4060: loss : 17.920856475830078,loss xy : 2.7937235832214355,loss wh : 0.2423350214958191,loss obj : 14.785564422607422，loss cls : 0.09923296421766281,loss l2 : 1.6729929447174072,lr : 0.001\n",
      "Epoch 30/50:  99%|▉| 270/272 [00:42<00:00,  7.53im2021-01-08 15:53:33,714 train.py[line:353] INFO: Train step_4080: loss : 17.913434982299805,loss xy : 4.285322189331055,loss wh : 0.022750630974769592,loss obj : 13.517682075500488，loss cls : 0.08767922222614288,loss l2 : 1.0324972867965698,lr : 0.001\n",
      "Epoch 30/50: 100%|█| 272/272 [00:42<00:00,  7.62im2021-01-08 15:53:34,794 train.py[line:364] INFO: Checkpoint 30 saved !\n",
      "Epoch 30/50: 100%|█| 272/272 [00:43<00:00,  6.23im\n",
      "Epoch 31/50:  14%|▏| 38/272 [00:08<00:34,  6.70img2021-01-08 15:53:43,140 train.py[line:353] INFO: Train step_4100: loss : 36.08859634399414,loss xy : 12.825209617614746,loss wh : 1.2891110181808472,loss obj : 19.80827522277832，loss cls : 2.165999174118042,loss l2 : 5.169197082519531,lr : 0.001\n",
      "Epoch 31/50:  29%|▎| 78/272 [00:14<00:28,  6.87img2021-01-08 15:53:49,164 train.py[line:353] INFO: Train step_4120: loss : 55.3889045715332,loss xy : 18.75457000732422,loss wh : 0.7273920178413391,loss obj : 32.28302001953125，loss cls : 3.62391996383667,loss l2 : 7.480217933654785,lr : 0.001\n",
      "Epoch 31/50:  43%|▍| 118/272 [00:19<00:21,  7.00im2021-01-08 15:53:54,874 train.py[line:353] INFO: Train step_4140: loss : 49.38632583618164,loss xy : 19.97916030883789,loss wh : 0.2723221182823181,loss obj : 26.52503204345703，loss cls : 2.6098127365112305,loss l2 : 4.5467047691345215,lr : 0.001\n",
      "Epoch 31/50:  58%|▌| 158/272 [00:25<00:16,  6.81im2021-01-08 15:54:00,743 train.py[line:353] INFO: Train step_4160: loss : 37.37376022338867,loss xy : 17.527448654174805,loss wh : 0.35930758714675903,loss obj : 16.163808822631836，loss cls : 3.3231940269470215,loss l2 : 3.5030765533447266,lr : 0.001\n",
      "Epoch 31/50:  73%|▋| 198/272 [00:31<00:10,  6.96im2021-01-08 15:54:06,590 train.py[line:353] INFO: Train step_4180: loss : 58.92658233642578,loss xy : 23.189598083496094,loss wh : 0.6437132358551025,loss obj : 29.98929214477539，loss cls : 5.103980541229248,loss l2 : 7.273465156555176,lr : 0.001\n",
      "Epoch 31/50:  88%|▉| 238/272 [00:37<00:04,  6.86im2021-01-08 15:54:12,306 train.py[line:353] INFO: Train step_4200: loss : 23.355737686157227,loss xy : 10.94833755493164,loss wh : 0.09479260444641113,loss obj : 11.70387077331543，loss cls : 0.6087368726730347,loss l2 : 1.2265526056289673,lr : 0.001\n",
      "Epoch 31/50: 100%|█| 272/272 [00:41<00:00,  7.62im2021-01-08 15:54:17,510 train.py[line:364] INFO: Checkpoint 31 saved !\n",
      "Epoch 31/50: 100%|█| 272/272 [00:42<00:00,  6.37im\n",
      "Epoch 32/50:   2%| | 6/272 [00:03<03:11,  1.39img/2021-01-08 15:54:21,023 train.py[line:353] INFO: Train step_4220: loss : 13.226613998413086,loss xy : 3.486151933670044,loss wh : 0.017385130748152733,loss obj : 9.721001625061035，loss cls : 0.0020750751718878746,loss l2 : 0.20644092559814453,lr : 0.001\n",
      "Epoch 32/50:  17%|▏| 46/272 [00:09<00:37,  6.03img2021-01-08 15:54:27,229 train.py[line:353] INFO: Train step_4240: loss : 91.29215240478516,loss xy : 34.334320068359375,loss wh : 2.4179837703704834,loss obj : 50.107521057128906，loss cls : 4.43233060836792,loss l2 : 17.735607147216797,lr : 0.001\n",
      "Epoch 32/50:  32%|▎| 86/272 [00:15<00:27,  6.82img2021-01-08 15:54:33,098 train.py[line:353] INFO: Train step_4260: loss : 16.762226104736328,loss xy : 6.248271942138672,loss wh : 0.07495447993278503,loss obj : 10.415566444396973，loss cls : 0.02343374863266945,loss l2 : 0.4699079692363739,lr : 0.001\n",
      "Epoch 32/50:  46%|▍| 126/272 [00:21<00:21,  6.66im2021-01-08 15:54:39,116 train.py[line:353] INFO: Train step_4280: loss : 68.9432601928711,loss xy : 20.834571838378906,loss wh : 0.7676259279251099,loss obj : 45.54945755004883，loss cls : 1.7916043996810913,loss l2 : 9.928948402404785,lr : 0.001\n",
      "Epoch 32/50:  61%|▌| 166/272 [00:27<00:15,  6.84im2021-01-08 15:54:45,065 train.py[line:353] INFO: Train step_4300: loss : 51.86479187011719,loss xy : 15.04360580444336,loss wh : 0.7815834879875183,loss obj : 35.271629333496094，loss cls : 0.7679730653762817,loss l2 : 7.918308258056641,lr : 0.001\n",
      "Epoch 32/50:  76%|▊| 206/272 [00:33<00:09,  6.81im2021-01-08 15:54:50,889 train.py[line:353] INFO: Train step_4320: loss : 73.16730499267578,loss xy : 27.8814697265625,loss wh : 1.0620774030685425,loss obj : 42.8226318359375，loss cls : 1.4011331796646118,loss l2 : 9.644224166870117,lr : 0.001\n",
      "Epoch 32/50:  90%|▉| 246/272 [00:38<00:03,  7.23im2021-01-08 15:54:56,726 train.py[line:353] INFO: Train step_4340: loss : 54.57640838623047,loss xy : 29.962974548339844,loss wh : 0.19087231159210205,loss obj : 23.761882781982422，loss cls : 0.6606796979904175,loss l2 : 3.956249713897705,lr : 0.001\n",
      "Epoch 32/50: 100%|█| 272/272 [00:42<00:00,  7.70im2021-01-08 15:55:00,845 train.py[line:364] INFO: Checkpoint 32 saved !\n",
      "Epoch 32/50: 100%|█| 272/272 [00:43<00:00,  6.28im\n",
      "Epoch 33/50:   5%| | 14/272 [00:04<01:11,  3.59img2021-01-08 15:55:05,620 train.py[line:353] INFO: Train step_4360: loss : 43.8696174621582,loss xy : 19.971439361572266,loss wh : 1.3990390300750732,loss obj : 21.29363441467285，loss cls : 1.2055041790008545,loss l2 : 6.492652893066406,lr : 0.001\n",
      "Epoch 33/50:  20%|▏| 54/272 [00:10<00:35,  6.20img2021-01-08 15:55:11,814 train.py[line:353] INFO: Train step_4380: loss : 48.7349739074707,loss xy : 15.74404525756836,loss wh : 0.2622085511684418,loss obj : 30.20737075805664，loss cls : 2.521350383758545,loss l2 : 6.616361618041992,lr : 0.001\n",
      "Epoch 33/50:  35%|▎| 94/272 [00:16<00:26,  6.66img2021-01-08 15:55:17,871 train.py[line:353] INFO: Train step_4400: loss : 70.36363220214844,loss xy : 26.250038146972656,loss wh : 1.8097580671310425,loss obj : 34.04827117919922，loss cls : 8.255565643310547,loss l2 : 12.020503997802734,lr : 0.001\n",
      "Epoch 33/50:  49%|▍| 134/272 [00:22<00:20,  6.73im2021-01-08 15:55:23,823 train.py[line:353] INFO: Train step_4420: loss : 58.879920959472656,loss xy : 25.597686767578125,loss wh : 1.8999531269073486,loss obj : 28.348583221435547，loss cls : 3.0336971282958984,loss l2 : 8.604204177856445,lr : 0.001\n",
      "Epoch 33/50:  64%|▋| 174/272 [00:28<00:14,  6.92im2021-01-08 15:55:29,654 train.py[line:353] INFO: Train step_4440: loss : 41.254547119140625,loss xy : 12.036345481872559,loss wh : 0.18789060413837433,loss obj : 22.69118881225586，loss cls : 6.3391218185424805,loss l2 : 6.0571980476379395,lr : 0.001\n",
      "Epoch 33/50:  79%|▊| 214/272 [00:34<00:08,  6.60im2021-01-08 15:55:35,611 train.py[line:353] INFO: Train step_4460: loss : 12.355161666870117,loss xy : 3.660586357116699,loss wh : 0.01984572783112526,loss obj : 8.625657081604004，loss cls : 0.049072448164224625,loss l2 : 0.5018050670623779,lr : 0.001\n",
      "Epoch 33/50:  93%|▉| 254/272 [00:40<00:02,  7.63im2021-01-08 15:55:41,352 train.py[line:353] INFO: Train step_4480: loss : 41.639347076416016,loss xy : 20.346683502197266,loss wh : 0.24927374720573425,loss obj : 18.352663040161133，loss cls : 2.6907286643981934,loss l2 : 4.721914291381836,lr : 0.001\n",
      "Epoch 33/50: 100%|█| 272/272 [00:42<00:00,  7.61im2021-01-08 15:55:44,431 train.py[line:364] INFO: Checkpoint 33 saved !\n",
      "Epoch 33/50: 100%|█| 272/272 [00:43<00:00,  6.24im\n",
      "Epoch 34/50:   8%| | 22/272 [00:05<00:45,  5.47img2021-01-08 15:55:50,540 train.py[line:353] INFO: Train step_4500: loss : 111.96705627441406,loss xy : 38.822509765625,loss wh : 3.803985595703125,loss obj : 63.08755111694336，loss cls : 6.2530059814453125,loss l2 : 20.01097297668457,lr : 0.001\n",
      "Epoch 34/50:  23%|▏| 62/272 [00:12<00:33,  6.18img2021-01-08 15:55:56,987 train.py[line:353] INFO: Train step_4520: loss : 25.86849021911621,loss xy : 10.994402885437012,loss wh : 0.2923446297645569,loss obj : 14.297422409057617，loss cls : 0.28431960940361023,loss l2 : 2.607672929763794,lr : 0.001\n",
      "Epoch 34/50:  38%|▍| 102/272 [00:18<00:24,  6.83im2021-01-08 15:56:03,191 train.py[line:353] INFO: Train step_4540: loss : 180.5404815673828,loss xy : 64.90389251708984,loss wh : 5.638210296630859,loss obj : 102.04895782470703，loss cls : 7.949410915374756,loss l2 : 36.750762939453125,lr : 0.001\n",
      "Epoch 34/50:  52%|▌| 142/272 [00:24<00:18,  6.92im2021-01-08 15:56:09,012 train.py[line:353] INFO: Train step_4560: loss : 52.55437469482422,loss xy : 23.799131393432617,loss wh : 0.6994068622589111,loss obj : 22.466402053833008，loss cls : 5.58942985534668,loss l2 : 8.427903175354004,lr : 0.001\n",
      "Epoch 34/50:  67%|▋| 182/272 [00:30<00:12,  7.00im2021-01-08 15:56:14,773 train.py[line:353] INFO: Train step_4580: loss : 87.66905975341797,loss xy : 33.019344329833984,loss wh : 1.6499748229980469,loss obj : 51.662845611572266，loss cls : 1.3368879556655884,loss l2 : 12.365123748779297,lr : 0.001\n",
      "Epoch 34/50:  82%|▊| 222/272 [00:35<00:07,  6.94im2021-01-08 15:56:20,706 train.py[line:353] INFO: Train step_4600: loss : 20.134422302246094,loss xy : 9.248391151428223,loss wh : 0.20773100852966309,loss obj : 10.4780912399292，loss cls : 0.20020870864391327,loss l2 : 2.110661268234253,lr : 0.001\n",
      "Epoch 34/50:  96%|▉| 262/272 [00:41<00:01,  7.74im2021-01-08 15:56:26,082 train.py[line:353] INFO: Train step_4620: loss : 40.20137023925781,loss xy : 16.808881759643555,loss wh : 0.14670000970363617,loss obj : 23.169403076171875，loss cls : 0.07638547569513321,loss l2 : 5.174181938171387,lr : 0.001\n",
      "Epoch 34/50: 100%|█| 272/272 [00:42<00:00,  7.74im2021-01-08 15:56:28,125 train.py[line:364] INFO: Checkpoint 34 saved !\n",
      "Epoch 34/50: 100%|█| 272/272 [00:43<00:00,  6.23im\n",
      "Epoch 35/50:  11%| | 30/272 [00:07<00:38,  6.31img2021-01-08 15:56:35,584 train.py[line:353] INFO: Train step_4640: loss : 72.260498046875,loss xy : 28.260154724121094,loss wh : 0.8346660137176514,loss obj : 39.11511993408203，loss cls : 4.0505595207214355,loss l2 : 9.773406028747559,lr : 0.001\n",
      "Epoch 35/50:  26%|▎| 70/272 [00:13<00:30,  6.58img2021-01-08 15:56:41,853 train.py[line:353] INFO: Train step_4660: loss : 54.46781539916992,loss xy : 19.771278381347656,loss wh : 1.4661046266555786,loss obj : 31.488218307495117，loss cls : 1.7422151565551758,loss l2 : 9.024042129516602,lr : 0.001\n",
      "Epoch 35/50:  40%|▍| 110/272 [00:19<00:23,  6.75im2021-01-08 15:56:47,837 train.py[line:353] INFO: Train step_4680: loss : 48.174198150634766,loss xy : 19.300811767578125,loss wh : 0.38735049962997437,loss obj : 27.0394287109375，loss cls : 1.4466047286987305,loss l2 : 7.52085018157959,lr : 0.001\n",
      "Epoch 35/50:  55%|▌| 150/272 [00:25<00:18,  6.58im2021-01-08 15:56:53,685 train.py[line:353] INFO: Train step_4700: loss : 73.64920043945312,loss xy : 30.433300018310547,loss wh : 3.3473129272460938,loss obj : 36.73552322387695，loss cls : 3.133065938949585,loss l2 : 15.805240631103516,lr : 0.001\n",
      "Epoch 35/50:  70%|▋| 190/272 [00:31<00:12,  6.63im2021-01-08 15:56:59,702 train.py[line:353] INFO: Train step_4720: loss : 30.119915008544922,loss xy : 14.494519233703613,loss wh : 0.39636674523353577,loss obj : 15.158180236816406，loss cls : 0.07084765285253525,loss l2 : 3.346668004989624,lr : 0.001\n",
      "Epoch 35/50:  85%|▊| 230/272 [00:37<00:06,  6.95im2021-01-08 15:57:05,573 train.py[line:353] INFO: Train step_4740: loss : 10.289932250976562,loss xy : 2.6331546306610107,loss wh : 0.047837380319833755,loss obj : 7.55729341506958，loss cls : 0.05164752155542374,loss l2 : 0.2170996367931366,lr : 0.001\n",
      "Epoch 35/50:  99%|▉| 270/272 [00:42<00:00,  7.70im2021-01-08 15:57:10,939 train.py[line:353] INFO: Train step_4760: loss : 65.6728286743164,loss xy : 29.603235244750977,loss wh : 3.008431911468506,loss obj : 32.95866012573242，loss cls : 0.1024986281991005,loss l2 : 12.101715087890625,lr : 0.001\n",
      "Epoch 35/50: 100%|█| 272/272 [00:42<00:00,  7.65im2021-01-08 15:57:11,923 train.py[line:364] INFO: Checkpoint 35 saved !\n",
      "Epoch 35/50: 100%|█| 272/272 [00:43<00:00,  6.21im\n",
      "Epoch 36/50:  14%|▏| 38/272 [00:07<00:35,  6.62img2021-01-08 15:57:20,015 train.py[line:353] INFO: Train step_4780: loss : 30.111539840698242,loss xy : 12.19650650024414,loss wh : 0.6846044063568115,loss obj : 16.99163818359375，loss cls : 0.23878967761993408,loss l2 : 3.021961212158203,lr : 0.001\n",
      "Epoch 36/50:  29%|▎| 78/272 [00:13<00:28,  6.87img2021-01-08 15:57:26,133 train.py[line:353] INFO: Train step_4800: loss : 67.27458190917969,loss xy : 30.97104263305664,loss wh : 2.4704575538635254,loss obj : 32.75700378417969，loss cls : 1.0760833024978638,loss l2 : 12.014423370361328,lr : 0.001\n",
      "Epoch 36/50:  43%|▍| 118/272 [00:19<00:22,  6.79im2021-01-08 15:57:32,028 train.py[line:353] INFO: Train step_4820: loss : 46.87753677368164,loss xy : 12.738052368164062,loss wh : 0.5667839050292969,loss obj : 23.559276580810547，loss cls : 10.013423919677734,loss l2 : 8.462900161743164,lr : 0.001\n",
      "Epoch 36/50:  58%|▌| 158/272 [00:25<00:16,  6.91im2021-01-08 15:57:37,965 train.py[line:353] INFO: Train step_4840: loss : 18.34482192993164,loss xy : 9.978509902954102,loss wh : 0.1421981304883957,loss obj : 8.117633819580078，loss cls : 0.10647913068532944,loss l2 : 1.062028408050537,lr : 0.001\n",
      "Epoch 36/50:  73%|▋| 198/272 [00:31<00:11,  6.24im2021-01-08 15:57:44,068 train.py[line:353] INFO: Train step_4860: loss : 25.768850326538086,loss xy : 11.802452087402344,loss wh : 0.4401695728302002,loss obj : 13.480050086975098，loss cls : 0.04617888480424881,loss l2 : 3.441291332244873,lr : 0.001\n",
      "Epoch 36/50:  88%|▉| 238/272 [00:37<00:04,  6.88im2021-01-08 15:57:49,878 train.py[line:353] INFO: Train step_4880: loss : 16.998214721679688,loss xy : 8.499531745910645,loss wh : 0.04294700175523758,loss obj : 8.441793441772461，loss cls : 0.013943156227469444,loss l2 : 0.41903507709503174,lr : 0.001\n",
      "Epoch 36/50: 100%|█| 272/272 [00:42<00:00,  7.68im2021-01-08 15:57:55,102 train.py[line:364] INFO: Checkpoint 36 saved !\n",
      "Epoch 36/50: 100%|█| 272/272 [00:43<00:00,  6.30im\n",
      "Epoch 37/50:   2%| | 6/272 [00:03<03:12,  1.38img/2021-01-08 15:57:58,796 train.py[line:353] INFO: Train step_4900: loss : 82.34366607666016,loss xy : 41.485191345214844,loss wh : 2.5365030765533447,loss obj : 34.63850402832031，loss cls : 3.6834630966186523,loss l2 : 13.577842712402344,lr : 0.001\n",
      "Epoch 37/50:  17%|▏| 46/272 [00:09<00:35,  6.28img2021-01-08 15:58:04,856 train.py[line:353] INFO: Train step_4920: loss : 23.348093032836914,loss xy : 14.015992164611816,loss wh : 0.19701087474822998,loss obj : 9.017099380493164，loss cls : 0.11799029260873795,loss l2 : 1.8321914672851562,lr : 0.001\n",
      "Epoch 37/50:  32%|▎| 86/272 [00:15<00:27,  6.88img2021-01-08 15:58:10,693 train.py[line:353] INFO: Train step_4940: loss : 56.788692474365234,loss xy : 22.08759117126465,loss wh : 2.592970132827759,loss obj : 31.52969741821289，loss cls : 0.578434944152832,loss l2 : 10.544025421142578,lr : 0.001\n",
      "Epoch 37/50:  46%|▍| 126/272 [00:21<00:21,  6.73im2021-01-08 15:58:16,504 train.py[line:353] INFO: Train step_4960: loss : 84.83766174316406,loss xy : 39.105140686035156,loss wh : 2.0869626998901367,loss obj : 43.00912857055664，loss cls : 0.6364317536354065,loss l2 : 13.926986694335938,lr : 0.001\n",
      "Epoch 37/50:  61%|▌| 166/272 [00:27<00:15,  6.76im2021-01-08 15:58:22,493 train.py[line:353] INFO: Train step_4980: loss : 63.174251556396484,loss xy : 31.14665985107422,loss wh : 1.6073812246322632,loss obj : 28.195968627929688，loss cls : 2.2242441177368164,loss l2 : 10.388376235961914,lr : 0.001\n",
      "Epoch 37/50:  76%|▊| 206/272 [00:33<00:09,  6.91im2021-01-08 15:58:28,484 train.py[line:353] INFO: Train step_5000: loss : 75.43934631347656,loss xy : 24.818429946899414,loss wh : 3.3468821048736572,loss obj : 46.57343292236328，loss cls : 0.7006021738052368,loss l2 : 14.249288558959961,lr : 0.001\n",
      "Epoch 37/50:  90%|▉| 246/272 [00:38<00:03,  7.29im2021-01-08 15:58:34,362 train.py[line:353] INFO: Train step_5020: loss : 87.3115005493164,loss xy : 36.751182556152344,loss wh : 4.02905797958374,loss obj : 44.8912467956543，loss cls : 1.640012264251709,loss l2 : 18.068801879882812,lr : 0.001\n",
      "Epoch 37/50: 100%|█| 272/272 [00:42<00:00,  7.64im2021-01-08 15:58:38,535 train.py[line:364] INFO: Checkpoint 37 saved !\n",
      "Epoch 37/50: 100%|█| 272/272 [00:43<00:00,  6.26im\n",
      "Epoch 38/50:   5%| | 14/272 [00:04<01:10,  3.67img2021-01-08 15:58:43,170 train.py[line:353] INFO: Train step_5040: loss : 14.081159591674805,loss xy : 7.381267070770264,loss wh : 0.0562131330370903,loss obj : 6.41689920425415，loss cls : 0.22677993774414062,loss l2 : 0.5512444376945496,lr : 0.001\n",
      "Epoch 38/50:  20%|▏| 54/272 [00:10<00:31,  6.89img2021-01-08 15:58:49,010 train.py[line:353] INFO: Train step_5060: loss : 186.72850036621094,loss xy : 80.49099731445312,loss wh : 4.334456920623779,loss obj : 91.48554992675781，loss cls : 10.417497634887695,loss l2 : 38.64746856689453,lr : 0.001\n",
      "Epoch 38/50:  35%|▎| 94/272 [00:16<00:29,  6.05img2021-01-08 15:58:55,168 train.py[line:353] INFO: Train step_5080: loss : 24.668067932128906,loss xy : 14.322614669799805,loss wh : 0.22522294521331787,loss obj : 9.982481002807617，loss cls : 0.1377478390932083,loss l2 : 2.044001817703247,lr : 0.001\n",
      "Epoch 38/50:  49%|▍| 134/272 [00:22<00:20,  6.68im2021-01-08 15:59:00,936 train.py[line:353] INFO: Train step_5100: loss : 47.89398956298828,loss xy : 16.390064239501953,loss wh : 0.6626143455505371,loss obj : 23.81184959411621，loss cls : 7.029461860656738,loss l2 : 8.481361389160156,lr : 0.001\n",
      "Epoch 38/50:  64%|▋| 174/272 [00:27<00:14,  6.55im2021-01-08 15:59:06,833 train.py[line:353] INFO: Train step_5120: loss : 35.1808967590332,loss xy : 17.01461410522461,loss wh : 0.49346354603767395,loss obj : 16.232666015625，loss cls : 1.440152883529663,loss l2 : 3.270521402359009,lr : 0.001\n",
      "Epoch 38/50:  79%|▊| 214/272 [00:34<00:08,  6.56im2021-01-08 15:59:12,890 train.py[line:353] INFO: Train step_5140: loss : 80.3255844116211,loss xy : 35.635162353515625,loss wh : 1.0321385860443115,loss obj : 42.61446762084961，loss cls : 1.0438133478164673,loss l2 : 10.72323226928711,lr : 0.001\n",
      "Epoch 38/50:  93%|▉| 254/272 [00:39<00:02,  7.55im2021-01-08 15:59:18,565 train.py[line:353] INFO: Train step_5160: loss : 99.72988891601562,loss xy : 49.03200912475586,loss wh : 5.670351028442383,loss obj : 36.644493103027344，loss cls : 8.38303279876709,loss l2 : 23.576839447021484,lr : 0.001\n",
      "Epoch 38/50: 100%|█| 272/272 [00:42<00:00,  7.70im2021-01-08 15:59:21,630 train.py[line:364] INFO: Checkpoint 38 saved !\n",
      "Epoch 38/50: 100%|█| 272/272 [00:43<00:00,  6.31im\n",
      "Epoch 39/50:   8%| | 22/272 [00:05<00:42,  5.82img2021-01-08 15:59:27,495 train.py[line:353] INFO: Train step_5180: loss : 8.687018394470215,loss xy : 3.445340394973755,loss wh : 0.030144797638058662,loss obj : 5.205719470977783，loss cls : 0.005813787691295147,loss l2 : 0.09215357154607773,lr : 0.001\n",
      "Epoch 39/50:  23%|▏| 62/272 [00:11<00:30,  6.78img2021-01-08 15:59:33,677 train.py[line:353] INFO: Train step_5200: loss : 24.236618041992188,loss xy : 12.969444274902344,loss wh : 0.21612399816513062,loss obj : 7.440665245056152，loss cls : 3.610386848449707,loss l2 : 2.700390338897705,lr : 0.001\n",
      "Epoch 39/50:  38%|▍| 102/272 [00:17<00:25,  6.76im2021-01-08 15:59:39,420 train.py[line:353] INFO: Train step_5220: loss : 8.896722793579102,loss xy : 3.2155373096466064,loss wh : 0.14513596892356873,loss obj : 5.532886505126953，loss cls : 0.003163592889904976,loss l2 : 0.36823299527168274,lr : 0.001\n",
      "Epoch 39/50:  52%|▌| 142/272 [00:23<00:20,  6.49im2021-01-08 15:59:45,401 train.py[line:353] INFO: Train step_5240: loss : 57.0482177734375,loss xy : 23.97655487060547,loss wh : 3.731454610824585,loss obj : 26.689437866210938，loss cls : 2.6507740020751953,loss l2 : 14.752124786376953,lr : 0.001\n",
      "Epoch 39/50:  67%|▋| 182/272 [00:29<00:12,  7.01im2021-01-08 15:59:51,125 train.py[line:353] INFO: Train step_5260: loss : 19.19210433959961,loss xy : 8.800276756286621,loss wh : 0.1317978948354721,loss obj : 9.726068496704102，loss cls : 0.5339617729187012,loss l2 : 1.918605923652649,lr : 0.001\n",
      "Epoch 39/50:  82%|▊| 222/272 [00:34<00:07,  6.71im2021-01-08 15:59:56,854 train.py[line:353] INFO: Train step_5280: loss : 49.22340774536133,loss xy : 23.98665428161621,loss wh : 1.290787935256958,loss obj : 21.324769973754883，loss cls : 2.621196746826172,loss l2 : 7.2416486740112305,lr : 0.001\n",
      "Epoch 39/50:  96%|▉| 262/272 [00:40<00:01,  7.57im2021-01-08 16:00:02,402 train.py[line:353] INFO: Train step_5300: loss : 113.53638458251953,loss xy : 53.26171875,loss wh : 3.7591381072998047,loss obj : 55.0776481628418，loss cls : 1.4378716945648193,loss l2 : 21.367172241210938,lr : 0.001\n",
      "Epoch 39/50: 100%|█| 272/272 [00:41<00:00,  7.64im2021-01-08 16:00:04,429 train.py[line:364] INFO: Checkpoint 39 saved !\n",
      "Epoch 39/50: 100%|█| 272/272 [00:42<00:00,  6.36im\n",
      "Epoch 40/50:  11%| | 30/272 [00:06<00:40,  6.04img2021-01-08 16:00:11,640 train.py[line:353] INFO: Train step_5320: loss : 71.87176513671875,loss xy : 26.500757217407227,loss wh : 2.027179479598999,loss obj : 42.66781997680664，loss cls : 0.6760070323944092,loss l2 : 12.190564155578613,lr : 0.001\n",
      "Epoch 40/50:  26%|▎| 70/272 [00:13<00:30,  6.60img2021-01-08 16:00:17,903 train.py[line:353] INFO: Train step_5340: loss : 79.5707778930664,loss xy : 30.241737365722656,loss wh : 1.621890664100647,loss obj : 45.17253112792969，loss cls : 2.5346131324768066,loss l2 : 13.683746337890625,lr : 0.001\n",
      "Epoch 40/50:  40%|▍| 110/272 [00:19<00:23,  6.89im2021-01-08 16:00:23,904 train.py[line:353] INFO: Train step_5360: loss : 75.29443359375,loss xy : 23.930278778076172,loss wh : 5.479952335357666,loss obj : 39.16877746582031，loss cls : 6.715420722961426,loss l2 : 20.2277889251709,lr : 0.001\n",
      "Epoch 40/50:  55%|▌| 150/272 [00:24<00:17,  6.92im2021-01-08 16:00:29,670 train.py[line:353] INFO: Train step_5380: loss : 57.71240997314453,loss xy : 27.996986389160156,loss wh : 1.5793778896331787,loss obj : 27.698232650756836，loss cls : 0.43781352043151855,loss l2 : 10.455015182495117,lr : 0.001\n",
      "Epoch 40/50:  70%|▋| 190/272 [00:30<00:11,  7.04im2021-01-08 16:00:35,368 train.py[line:353] INFO: Train step_5400: loss : 34.00608825683594,loss xy : 11.915024757385254,loss wh : 0.9403476715087891,loss obj : 20.374832153320312，loss cls : 0.7758828997612,loss l2 : 4.695044994354248,lr : 0.001\n",
      "Epoch 40/50:  85%|▊| 230/272 [00:36<00:06,  6.69im2021-01-08 16:00:41,244 train.py[line:353] INFO: Train step_5420: loss : 14.559956550598145,loss xy : 7.085350036621094,loss wh : 0.29548949003219604,loss obj : 7.103052139282227，loss cls : 0.07606491446495056,loss l2 : 1.6556847095489502,lr : 0.001\n",
      "Epoch 40/50:  99%|▉| 270/272 [00:41<00:00,  7.67im2021-01-08 16:00:46,683 train.py[line:353] INFO: Train step_5440: loss : 23.005102157592773,loss xy : 11.594528198242188,loss wh : 0.25664007663726807,loss obj : 11.013246536254883，loss cls : 0.14068825542926788,loss l2 : 2.916652202606201,lr : 0.001\n",
      "Epoch 40/50: 100%|█| 272/272 [00:42<00:00,  7.68im2021-01-08 16:00:47,725 train.py[line:364] INFO: Checkpoint 40 saved !\n",
      "Epoch 40/50: 100%|█| 272/272 [00:43<00:00,  6.28im\n",
      "Epoch 41/50:  14%|▏| 38/272 [00:07<00:36,  6.43img2021-01-08 16:00:55,671 train.py[line:353] INFO: Train step_5460: loss : 79.80779266357422,loss xy : 29.700408935546875,loss wh : 1.3775826692581177,loss obj : 45.84100341796875，loss cls : 2.8888015747070312,loss l2 : 12.513821601867676,lr : 0.001\n",
      "Epoch 41/50:  29%|▎| 78/272 [00:13<00:29,  6.53img2021-01-08 16:01:01,891 train.py[line:353] INFO: Train step_5480: loss : 29.548364639282227,loss xy : 17.652420043945312,loss wh : 0.6386857628822327,loss obj : 11.087362289428711，loss cls : 0.16989794373512268,loss l2 : 3.4854753017425537,lr : 0.001\n",
      "Epoch 41/50:  43%|▍| 118/272 [00:19<00:21,  7.16im2021-01-08 16:01:07,754 train.py[line:353] INFO: Train step_5500: loss : 64.26455688476562,loss xy : 25.04944610595703,loss wh : 1.0471946001052856,loss obj : 33.321292877197266，loss cls : 4.846624851226807,loss l2 : 9.44796371459961,lr : 0.001\n",
      "Epoch 41/50:  58%|▌| 158/272 [00:25<00:17,  6.66im2021-01-08 16:01:13,703 train.py[line:353] INFO: Train step_5520: loss : 42.551780700683594,loss xy : 17.184406280517578,loss wh : 0.7827814221382141,loss obj : 21.308216094970703，loss cls : 3.2763729095458984,loss l2 : 6.887452602386475,lr : 0.001\n",
      "Epoch 41/50:  73%|▋| 198/272 [00:31<00:10,  6.75im2021-01-08 16:01:19,635 train.py[line:353] INFO: Train step_5540: loss : 10.044123649597168,loss xy : 3.0526604652404785,loss wh : 0.051100216805934906,loss obj : 5.935949325561523，loss cls : 1.004413366317749,loss l2 : 0.8660898804664612,lr : 0.001\n",
      "Epoch 41/50:  88%|▉| 238/272 [00:37<00:05,  6.58im2021-01-08 16:01:25,458 train.py[line:353] INFO: Train step_5560: loss : 29.603063583374023,loss xy : 20.576282501220703,loss wh : 0.3466252088546753,loss obj : 8.594151496887207，loss cls : 0.08600466698408127,loss l2 : 1.9818843603134155,lr : 0.001\n",
      "Epoch 41/50: 100%|█| 272/272 [00:41<00:00,  7.55im2021-01-08 16:01:30,662 train.py[line:364] INFO: Checkpoint 41 saved !\n",
      "Epoch 41/50: 100%|█| 272/272 [00:42<00:00,  6.34im\n",
      "Epoch 42/50:   2%| | 6/272 [00:03<03:21,  1.32img/2021-01-08 16:01:34,348 train.py[line:353] INFO: Train step_5580: loss : 25.30891227722168,loss xy : 8.044097900390625,loss wh : 0.31425797939300537,loss obj : 16.916526794433594，loss cls : 0.03402911499142647,loss l2 : 4.5721540451049805,lr : 0.001\n",
      "Epoch 42/50:  17%|▏| 46/272 [00:09<00:35,  6.42img2021-01-08 16:01:40,463 train.py[line:353] INFO: Train step_5600: loss : 63.67451858520508,loss xy : 26.496723175048828,loss wh : 1.2111485004425049,loss obj : 34.12828826904297，loss cls : 1.838360071182251,loss l2 : 8.447375297546387,lr : 0.001\n",
      "Epoch 42/50:  32%|▎| 86/272 [00:15<00:28,  6.49img2021-01-08 16:01:46,715 train.py[line:353] INFO: Train step_5620: loss : 7.673919677734375,loss xy : 3.1756715774536133,loss wh : 0.08830460906028748,loss obj : 4.33378791809082，loss cls : 0.07615550607442856,loss l2 : 0.2778276801109314,lr : 0.001\n",
      "Epoch 42/50:  46%|▍| 126/272 [00:21<00:21,  6.93im2021-01-08 16:01:52,641 train.py[line:353] INFO: Train step_5640: loss : 43.51978302001953,loss xy : 20.16431427001953,loss wh : 0.9825339913368225,loss obj : 21.680713653564453，loss cls : 0.6922208666801453,loss l2 : 7.96771240234375,lr : 0.001\n",
      "Epoch 42/50:  61%|▌| 166/272 [00:27<00:15,  6.67im2021-01-08 16:01:58,517 train.py[line:353] INFO: Train step_5660: loss : 129.4923553466797,loss xy : 64.75419616699219,loss wh : 3.270395517349243,loss obj : 56.166778564453125，loss cls : 5.300991535186768,loss l2 : 20.73943328857422,lr : 0.001\n",
      "Epoch 42/50:  76%|▊| 206/272 [00:33<00:09,  7.07im2021-01-08 16:02:04,237 train.py[line:353] INFO: Train step_5680: loss : 50.93235778808594,loss xy : 23.82526969909668,loss wh : 0.6804744005203247,loss obj : 25.433639526367188，loss cls : 0.9929720163345337,loss l2 : 7.70727014541626,lr : 0.001\n",
      "Epoch 42/50:  90%|▉| 246/272 [00:38<00:03,  7.35im2021-01-08 16:02:09,920 train.py[line:353] INFO: Train step_5700: loss : 52.61599349975586,loss xy : 18.506900787353516,loss wh : 0.8852579593658447,loss obj : 31.18468475341797，loss cls : 2.0391509532928467,loss l2 : 8.036283493041992,lr : 0.001\n",
      "Epoch 42/50: 100%|█| 272/272 [00:42<00:00,  7.44im2021-01-08 16:02:14,614 train.py[line:364] INFO: Checkpoint 42 saved !\n",
      "Epoch 42/50: 100%|█| 272/272 [00:43<00:00,  6.19im\n",
      "Epoch 43/50:   5%| | 14/272 [00:04<01:11,  3.61img2021-01-08 16:02:19,650 train.py[line:353] INFO: Train step_5720: loss : 7.541743755340576,loss xy : 3.194471836090088,loss wh : 0.06117480993270874,loss obj : 4.279241561889648，loss cls : 0.006855648942291737,loss l2 : 0.28558799624443054,lr : 0.001\n",
      "Epoch 43/50:  20%|▏| 54/272 [00:10<00:34,  6.39img2021-01-08 16:02:25,613 train.py[line:353] INFO: Train step_5740: loss : 9.317898750305176,loss xy : 4.2120771408081055,loss wh : 0.08672540634870529,loss obj : 5.016366481781006，loss cls : 0.0027307167183607817,loss l2 : 0.7443760633468628,lr : 0.001\n",
      "Epoch 43/50:  35%|▎| 94/272 [00:16<00:26,  6.62img2021-01-08 16:02:31,707 train.py[line:353] INFO: Train step_5760: loss : 69.60587310791016,loss xy : 32.18878936767578,loss wh : 1.0202668905258179,loss obj : 35.660037994384766，loss cls : 0.7367756962776184,loss l2 : 11.184072494506836,lr : 0.001\n",
      "Epoch 43/50:  49%|▍| 134/272 [00:22<00:20,  6.66im2021-01-08 16:02:37,517 train.py[line:353] INFO: Train step_5780: loss : 10.075459480285645,loss xy : 5.576427936553955,loss wh : 0.12240248918533325,loss obj : 4.336538314819336，loss cls : 0.04009047895669937,loss l2 : 0.7057489156723022,lr : 0.001\n",
      "Epoch 43/50:  64%|▋| 174/272 [00:28<00:14,  6.89im2021-01-08 16:02:43,312 train.py[line:353] INFO: Train step_5800: loss : 43.10329055786133,loss xy : 20.844379425048828,loss wh : 1.0595612525939941,loss obj : 18.240489959716797，loss cls : 2.9588584899902344,loss l2 : 7.426329612731934,lr : 0.001\n",
      "Epoch 43/50:  79%|▊| 214/272 [00:34<00:08,  6.79im2021-01-08 16:02:49,260 train.py[line:353] INFO: Train step_5820: loss : 52.64021301269531,loss xy : 27.198266983032227,loss wh : 0.6164380311965942,loss obj : 21.09255599975586，loss cls : 3.7329533100128174,loss l2 : 7.153836727142334,lr : 0.001\n",
      "Epoch 43/50:  93%|▉| 254/272 [00:39<00:02,  7.44im2021-01-08 16:02:54,780 train.py[line:353] INFO: Train step_5840: loss : 12.808937072753906,loss xy : 3.537527322769165,loss wh : 0.09552312642335892,loss obj : 9.16662883758545，loss cls : 0.00925783347338438,loss l2 : 2.4114198684692383,lr : 0.001\n",
      "Epoch 43/50: 100%|█| 272/272 [00:42<00:00,  7.53im2021-01-08 16:02:57,911 train.py[line:364] INFO: Checkpoint 43 saved !\n",
      "Epoch 43/50: 100%|█| 272/272 [00:43<00:00,  6.28im\n",
      "Epoch 44/50:   8%| | 22/272 [00:05<00:43,  5.75img2021-01-08 16:03:03,731 train.py[line:353] INFO: Train step_5860: loss : 44.210205078125,loss xy : 24.767147064208984,loss wh : 0.7854166030883789,loss obj : 18.242826461791992，loss cls : 0.414817214012146,loss l2 : 4.6673054695129395,lr : 0.001\n",
      "Epoch 44/50:  23%|▏| 62/272 [00:11<00:33,  6.30img2021-01-08 16:03:09,933 train.py[line:353] INFO: Train step_5880: loss : 6.910223960876465,loss xy : 3.391145944595337,loss wh : 0.15030217170715332,loss obj : 3.3631558418273926，loss cls : 0.005619881208986044,loss l2 : 0.5632107853889465,lr : 0.001\n",
      "Epoch 44/50:  38%|▍| 102/272 [00:17<00:25,  6.72im2021-01-08 16:03:15,951 train.py[line:353] INFO: Train step_5900: loss : 37.702056884765625,loss xy : 18.22443962097168,loss wh : 0.6271369457244873,loss obj : 17.89836883544922，loss cls : 0.9521094560623169,loss l2 : 5.24584436416626,lr : 0.001\n",
      "Epoch 44/50:  52%|▌| 142/272 [00:23<00:19,  6.79im2021-01-08 16:03:21,840 train.py[line:353] INFO: Train step_5920: loss : 8.668497085571289,loss xy : 4.860867500305176,loss wh : 0.025200771167874336,loss obj : 3.7538869380950928，loss cls : 0.028541553765535355,loss l2 : 0.11525759100914001,lr : 0.001\n",
      "Epoch 44/50:  67%|▋| 182/272 [00:29<00:13,  6.70im2021-01-08 16:03:27,912 train.py[line:353] INFO: Train step_5940: loss : 91.44082641601562,loss xy : 39.278297424316406,loss wh : 2.3005361557006836,loss obj : 47.87583541870117，loss cls : 1.9861599206924438,loss l2 : 14.203714370727539,lr : 0.001\n",
      "Epoch 44/50:  82%|▊| 222/272 [00:35<00:07,  6.63im2021-01-08 16:03:33,905 train.py[line:353] INFO: Train step_5960: loss : 9.47118854522705,loss xy : 3.156496524810791,loss wh : 0.06096503883600235,loss obj : 6.221312522888184，loss cls : 0.032414890825748444,loss l2 : 0.9972389936447144,lr : 0.001\n",
      "Epoch 44/50:  96%|▉| 262/272 [00:41<00:01,  7.75im2021-01-08 16:03:39,350 train.py[line:353] INFO: Train step_5980: loss : 50.43220520019531,loss xy : 26.38649559020996,loss wh : 0.7263306379318237,loss obj : 22.94503402709961，loss cls : 0.3743444085121155,loss l2 : 6.305581569671631,lr : 0.001\n",
      "Epoch 44/50: 100%|█| 272/272 [00:42<00:00,  7.59im2021-01-08 16:03:41,456 train.py[line:364] INFO: Checkpoint 44 saved !\n",
      "Epoch 44/50: 100%|█| 272/272 [00:43<00:00,  6.25im\n",
      "Epoch 45/50:  11%| | 30/272 [00:07<00:41,  5.89img2021-01-08 16:03:48,771 train.py[line:353] INFO: Train step_6000: loss : 44.04500198364258,loss xy : 13.043606758117676,loss wh : 2.283701181411743,loss obj : 23.71267318725586，loss cls : 5.005021095275879,loss l2 : 11.430046081542969,lr : 0.001\n",
      "Epoch 45/50:  26%|▎| 70/272 [00:13<00:31,  6.51img2021-01-08 16:03:55,052 train.py[line:353] INFO: Train step_6020: loss : 30.553058624267578,loss xy : 15.89737606048584,loss wh : 0.8365353345870972,loss obj : 11.168458938598633，loss cls : 2.650688409805298,loss l2 : 4.76899528503418,lr : 0.001\n",
      "Epoch 45/50:  40%|▍| 110/272 [00:19<00:23,  6.97im2021-01-08 16:04:00,991 train.py[line:353] INFO: Train step_6040: loss : 26.448942184448242,loss xy : 9.858299255371094,loss wh : 1.3200703859329224,loss obj : 15.01644515991211，loss cls : 0.25412821769714355,loss l2 : 4.759817123413086,lr : 0.001\n",
      "Epoch 45/50:  55%|▌| 150/272 [00:25<00:17,  6.81im2021-01-08 16:04:06,842 train.py[line:353] INFO: Train step_6060: loss : 28.602073669433594,loss xy : 13.175025939941406,loss wh : 0.2516094446182251,loss obj : 14.306336402893066，loss cls : 0.8691028952598572,loss l2 : 3.1673874855041504,lr : 0.001\n",
      "Epoch 45/50:  70%|▋| 190/272 [00:30<00:12,  6.65im2021-01-08 16:04:12,669 train.py[line:353] INFO: Train step_6080: loss : 24.625017166137695,loss xy : 10.157865524291992,loss wh : 0.11180514842271805,loss obj : 6.9339752197265625，loss cls : 7.4213714599609375,loss l2 : 3.44138503074646,lr : 0.001\n",
      "Epoch 45/50:  85%|▊| 230/272 [00:36<00:06,  6.70im2021-01-08 16:04:18,548 train.py[line:353] INFO: Train step_6100: loss : 18.415624618530273,loss xy : 13.888805389404297,loss wh : 0.21704262495040894,loss obj : 3.981010913848877，loss cls : 0.32876595854759216,loss l2 : 0.7962017059326172,lr : 0.001\n",
      "Epoch 45/50:  99%|▉| 270/272 [00:42<00:00,  7.60im2021-01-08 16:04:23,915 train.py[line:353] INFO: Train step_6120: loss : 31.22276496887207,loss xy : 14.597013473510742,loss wh : 0.5888198614120483,loss obj : 15.769682884216309，loss cls : 0.2672489583492279,loss l2 : 4.5120391845703125,lr : 0.001\n",
      "Epoch 45/50: 100%|█| 272/272 [00:42<00:00,  7.60im2021-01-08 16:04:24,918 train.py[line:364] INFO: Checkpoint 45 saved !\n",
      "Epoch 45/50: 100%|█| 272/272 [00:43<00:00,  6.26im\n",
      "Epoch 46/50:  14%|▏| 38/272 [00:08<00:36,  6.36img2021-01-08 16:04:33,739 train.py[line:353] INFO: Train step_6140: loss : 59.39544677734375,loss xy : 17.96237564086914,loss wh : 1.7114015817642212,loss obj : 39.529972076416016，loss cls : 0.19169682264328003,loss l2 : 15.023866653442383,lr : 0.001\n",
      "Epoch 46/50:  29%|▎| 78/272 [00:14<00:29,  6.67img2021-01-08 16:04:39,769 train.py[line:353] INFO: Train step_6160: loss : 42.65155029296875,loss xy : 19.010351181030273,loss wh : 0.7669609189033508,loss obj : 21.296127319335938，loss cls : 1.5781095027923584,loss l2 : 5.073450565338135,lr : 0.001\n",
      "Epoch 46/50:  43%|▍| 118/272 [00:20<00:22,  6.99im2021-01-08 16:04:45,718 train.py[line:353] INFO: Train step_6180: loss : 148.68638610839844,loss xy : 82.67721557617188,loss wh : 3.168442726135254,loss obj : 59.75014114379883，loss cls : 3.090597629547119,loss l2 : 24.32779884338379,lr : 0.001\n",
      "Epoch 46/50:  58%|▌| 158/272 [00:26<00:16,  6.96im2021-01-08 16:04:51,520 train.py[line:353] INFO: Train step_6200: loss : 16.669963836669922,loss xy : 9.227496147155762,loss wh : 0.16918659210205078,loss obj : 5.456432342529297，loss cls : 1.8168489933013916,loss l2 : 2.3072855472564697,lr : 0.001\n",
      "Epoch 46/50:  73%|▋| 198/272 [00:32<00:10,  6.84im2021-01-08 16:04:57,334 train.py[line:353] INFO: Train step_6220: loss : 6.880871772766113,loss xy : 3.772487163543701,loss wh : 0.15737369656562805,loss obj : 2.9469592571258545，loss cls : 0.004051598254591227,loss l2 : 0.32776665687561035,lr : 0.001\n",
      "Epoch 46/50:  88%|▉| 238/272 [00:37<00:04,  7.05im2021-01-08 16:05:03,036 train.py[line:353] INFO: Train step_6240: loss : 54.403839111328125,loss xy : 29.66986846923828,loss wh : 0.688778281211853,loss obj : 23.10039520263672，loss cls : 0.9447993636131287,loss l2 : 7.512712478637695,lr : 0.001\n",
      "Epoch 46/50: 100%|█| 272/272 [00:42<00:00,  7.55im2021-01-08 16:05:08,231 train.py[line:364] INFO: Checkpoint 46 saved !\n",
      "Epoch 46/50: 100%|█| 272/272 [00:43<00:00,  6.28im\n",
      "Epoch 47/50:   2%| | 6/272 [00:03<03:25,  1.30img/2021-01-08 16:05:11,954 train.py[line:353] INFO: Train step_6260: loss : 43.65555953979492,loss xy : 29.212085723876953,loss wh : 0.39244934916496277,loss obj : 13.699893951416016，loss cls : 0.3511318862438202,loss l2 : 4.654600620269775,lr : 0.001\n",
      "Epoch 47/50:  17%|▏| 46/272 [00:09<00:32,  7.05img2021-01-08 16:05:17,846 train.py[line:353] INFO: Train step_6280: loss : 36.459659576416016,loss xy : 15.069170951843262,loss wh : 1.6951097249984741,loss obj : 19.12323760986328，loss cls : 0.5721403360366821,loss l2 : 6.893660068511963,lr : 0.001\n",
      "Epoch 47/50:  32%|▎| 86/272 [00:15<00:27,  6.69img2021-01-08 16:05:24,098 train.py[line:353] INFO: Train step_6300: loss : 16.51518440246582,loss xy : 3.489543914794922,loss wh : 0.320586621761322,loss obj : 12.700807571411133，loss cls : 0.0042459359392523766,loss l2 : 3.8497142791748047,lr : 0.001\n",
      "Epoch 47/50:  46%|▍| 126/272 [00:21<00:22,  6.45im2021-01-08 16:05:30,004 train.py[line:353] INFO: Train step_6320: loss : 20.272844314575195,loss xy : 11.807456016540527,loss wh : 0.3986523151397705,loss obj : 8.001138687133789，loss cls : 0.06559745967388153,loss l2 : 2.285430669784546,lr : 0.001\n",
      "Epoch 47/50:  61%|▌| 166/272 [00:27<00:16,  6.58im2021-01-08 16:05:36,018 train.py[line:353] INFO: Train step_6340: loss : 84.49866485595703,loss xy : 28.257600784301758,loss wh : 6.723387241363525,loss obj : 40.3511962890625，loss cls : 9.166483879089355,loss l2 : 24.316125869750977,lr : 0.001\n",
      "Epoch 47/50:  76%|▊| 206/272 [00:33<00:09,  7.06im2021-01-08 16:05:41,860 train.py[line:353] INFO: Train step_6360: loss : 7.315557479858398,loss xy : 3.144784927368164,loss wh : 0.06836500018835068,loss obj : 4.08212423324585，loss cls : 0.020283030346035957,loss l2 : 0.7134032845497131,lr : 0.001\n",
      "Epoch 47/50:  90%|▉| 246/272 [00:39<00:03,  7.33im2021-01-08 16:05:47,533 train.py[line:353] INFO: Train step_6380: loss : 16.272720336914062,loss xy : 11.319011688232422,loss wh : 0.08563118427991867,loss obj : 4.699474334716797，loss cls : 0.16860251128673553,loss l2 : 1.357595682144165,lr : 0.001\n",
      "Epoch 47/50: 100%|█| 272/272 [00:42<00:00,  7.69im2021-01-08 16:05:51,656 train.py[line:364] INFO: Checkpoint 47 saved !\n",
      "Epoch 47/50: 100%|█| 272/272 [00:43<00:00,  6.26im\n",
      "Epoch 48/50:   5%| | 14/272 [00:04<01:16,  3.39img2021-01-08 16:05:56,602 train.py[line:353] INFO: Train step_6400: loss : 114.42887115478516,loss xy : 48.33393096923828,loss wh : 5.175170421600342,loss obj : 57.59052658081055，loss cls : 3.3292479515075684,loss l2 : 21.306373596191406,lr : 0.001\n",
      "Epoch 48/50:  20%|▏| 54/272 [00:10<00:35,  6.19img2021-01-08 16:06:02,900 train.py[line:353] INFO: Train step_6420: loss : 14.83503246307373,loss xy : 10.344057083129883,loss wh : 0.08329799026250839,loss obj : 4.31144905090332，loss cls : 0.096228688955307,loss l2 : 0.5556303262710571,lr : 0.001\n",
      "Epoch 48/50:  35%|▎| 94/272 [00:16<00:26,  6.60img2021-01-08 16:06:08,869 train.py[line:353] INFO: Train step_6440: loss : 27.362342834472656,loss xy : 11.186058044433594,loss wh : 0.21096962690353394,loss obj : 15.521196365356445，loss cls : 0.44411784410476685,loss l2 : 3.2721197605133057,lr : 0.001\n",
      "Epoch 48/50:  49%|▍| 134/272 [00:22<00:19,  7.01im2021-01-08 16:06:14,593 train.py[line:353] INFO: Train step_6460: loss : 21.92548942565918,loss xy : 14.35670280456543,loss wh : 0.10747470706701279,loss obj : 6.067008018493652，loss cls : 1.394303560256958,loss l2 : 2.3026986122131348,lr : 0.001\n",
      "Epoch 48/50:  64%|▋| 174/272 [00:28<00:14,  6.95im2021-01-08 16:06:20,462 train.py[line:353] INFO: Train step_6480: loss : 100.64571380615234,loss xy : 37.353179931640625,loss wh : 2.768585681915283,loss obj : 52.5806884765625，loss cls : 7.943260192871094,loss l2 : 19.7677059173584,lr : 0.001\n",
      "Epoch 48/50:  79%|▊| 214/272 [00:34<00:08,  7.10im2021-01-08 16:06:26,191 train.py[line:353] INFO: Train step_6500: loss : 20.77199363708496,loss xy : 8.85703182220459,loss wh : 0.32289570569992065,loss obj : 11.561155319213867，loss cls : 0.030911216512322426,loss l2 : 2.0170836448669434,lr : 0.001\n",
      "Epoch 48/50:  93%|▉| 254/272 [00:39<00:02,  7.62im2021-01-08 16:06:31,795 train.py[line:353] INFO: Train step_6520: loss : 36.96910858154297,loss xy : 12.698742866516113,loss wh : 0.5049117803573608,loss obj : 12.279891014099121，loss cls : 11.485565185546875,loss l2 : 5.145771026611328,lr : 0.001\n",
      "Epoch 48/50: 100%|█| 272/272 [00:42<00:00,  7.67im2021-01-08 16:06:34,896 train.py[line:364] INFO: Checkpoint 48 saved !\n",
      "Epoch 48/50: 100%|█| 272/272 [00:43<00:00,  6.29im\n",
      "Epoch 49/50:   8%| | 22/272 [00:05<00:44,  5.63img2021-01-08 16:06:40,647 train.py[line:353] INFO: Train step_6540: loss : 9.22994613647461,loss xy : 5.483818054199219,loss wh : 0.049582697451114655,loss obj : 2.9833755493164062，loss cls : 0.7131705284118652,loss l2 : 0.5385441184043884,lr : 0.001\n",
      "Epoch 49/50:  23%|▏| 62/272 [00:11<00:33,  6.20img2021-01-08 16:06:46,771 train.py[line:353] INFO: Train step_6560: loss : 5.207667350769043,loss xy : 2.628465414047241,loss wh : 0.04913743585348129,loss obj : 2.5272064208984375，loss cls : 0.002857943531125784,loss l2 : 0.32619625329971313,lr : 0.001\n",
      "Epoch 49/50:  38%|▍| 102/272 [00:17<00:25,  6.75im2021-01-08 16:06:52,885 train.py[line:353] INFO: Train step_6580: loss : 56.68390655517578,loss xy : 18.459056854248047,loss wh : 1.211499571800232,loss obj : 31.98729705810547，loss cls : 5.0260539054870605,loss l2 : 9.478511810302734,lr : 0.001\n",
      "Epoch 49/50:  52%|▌| 142/272 [00:23<00:19,  6.63im2021-01-08 16:06:58,849 train.py[line:353] INFO: Train step_6600: loss : 26.654916763305664,loss xy : 13.86737060546875,loss wh : 0.49366068840026855,loss obj : 10.190204620361328，loss cls : 2.1036808490753174,loss l2 : 3.4309206008911133,lr : 0.001\n",
      "Epoch 49/50:  67%|▋| 182/272 [00:29<00:13,  6.87im2021-01-08 16:07:04,741 train.py[line:353] INFO: Train step_6620: loss : 43.62354278564453,loss xy : 17.142375946044922,loss wh : 0.7893931865692139,loss obj : 14.305978775024414，loss cls : 11.385793685913086,loss l2 : 8.478879928588867,lr : 0.001\n",
      "Epoch 49/50:  82%|▊| 222/272 [00:35<00:07,  6.58im2021-01-08 16:07:10,670 train.py[line:353] INFO: Train step_6640: loss : 92.26123046875,loss xy : 34.95684814453125,loss wh : 5.08602237701416,loss obj : 51.44384002685547，loss cls : 0.7745175361633301,loss l2 : 21.20165252685547,lr : 0.001\n",
      "Epoch 49/50:  96%|▉| 262/272 [00:40<00:01,  7.68im2021-01-08 16:07:16,103 train.py[line:353] INFO: Train step_6660: loss : 30.054584503173828,loss xy : 11.689506530761719,loss wh : 0.3938707411289215,loss obj : 16.714458465576172，loss cls : 1.2567486763000488,loss l2 : 4.8881402015686035,lr : 0.001\n",
      "Epoch 49/50: 100%|█| 272/272 [00:42<00:00,  7.67im2021-01-08 16:07:18,049 train.py[line:364] INFO: Checkpoint 49 saved !\n",
      "Epoch 49/50: 100%|█| 272/272 [00:43<00:00,  6.30im\n",
      "Epoch 50/50:  11%| | 30/272 [00:07<00:36,  6.59img2021-01-08 16:07:25,465 train.py[line:353] INFO: Train step_6680: loss : 24.0250244140625,loss xy : 11.158419609069824,loss wh : 0.14337551593780518,loss obj : 11.954009056091309，loss cls : 0.7692209482192993,loss l2 : 2.8232665061950684,lr : 0.001\n",
      "Epoch 50/50:  26%|▎| 70/272 [00:13<00:31,  6.41img2021-01-08 16:07:31,615 train.py[line:353] INFO: Train step_6700: loss : 11.249994277954102,loss xy : 5.51718807220459,loss wh : 0.15514792501926422,loss obj : 5.548272609710693，loss cls : 0.029385270550847054,loss l2 : 1.3151074647903442,lr : 0.001\n",
      "Epoch 50/50:  40%|▍| 110/272 [00:19<00:23,  6.80im2021-01-08 16:07:37,844 train.py[line:353] INFO: Train step_6720: loss : 6.9327073097229,loss xy : 4.493517875671387,loss wh : 0.028667492792010307,loss obj : 2.3848507404327393，loss cls : 0.02567168138921261,loss l2 : 0.38737744092941284,lr : 0.001\n",
      "Epoch 50/50:  55%|▌| 150/272 [00:25<00:18,  6.51im2021-01-08 16:07:44,020 train.py[line:353] INFO: Train step_6740: loss : 77.2173843383789,loss xy : 27.23206901550293,loss wh : 1.0696324110031128,loss obj : 43.53852844238281，loss cls : 5.377159118652344,loss l2 : 11.397834777832031,lr : 0.001\n",
      "Epoch 50/50:  70%|▋| 190/272 [00:31<00:12,  6.62im2021-01-08 16:07:50,033 train.py[line:353] INFO: Train step_6760: loss : 27.827219009399414,loss xy : 15.381404876708984,loss wh : 0.22810447216033936,loss obj : 8.804437637329102，loss cls : 3.4132702350616455,loss l2 : 3.2989282608032227,lr : 0.001\n",
      "Epoch 50/50:  85%|▊| 230/272 [00:37<00:06,  6.75im2021-01-08 16:07:55,922 train.py[line:353] INFO: Train step_6780: loss : 23.478761672973633,loss xy : 13.911208152770996,loss wh : 0.45438337326049805,loss obj : 8.630316734313965，loss cls : 0.4828546345233917,loss l2 : 4.106412410736084,lr : 0.001\n",
      "Epoch 50/50:  99%|▉| 270/272 [00:43<00:00,  7.63im2021-01-08 16:08:01,327 train.py[line:353] INFO: Train step_6800: loss : 23.28728485107422,loss xy : 13.577648162841797,loss wh : 0.7057819366455078,loss obj : 8.44792652130127，loss cls : 0.5559265613555908,loss l2 : 3.3413822650909424,lr : 0.001\n",
      "Epoch 50/50: 100%|█| 272/272 [00:43<00:00,  7.65im2021-01-08 16:08:02,319 train.py[line:364] INFO: Checkpoint 50 saved !\n",
      "Epoch 50/50: 100%|█| 272/272 [00:44<00:00,  6.14im\n"
     ]
    }
   ],
   "source": [
    "#start training\n",
    "!python train.py -b 2 -s 1 -l 0.001 -g 0 -pretrained ./yolov4.conv.137.pth -classes {num_classes} -dir ./train -epochs 50"
   ]
  },
  {
   "cell_type": "markdown",
   "metadata": {
    "id": "CR87FGKijXbI"
   },
   "source": [
    "# Load Trained Weights for Custom Detection\n",
    "\n",
    "You can also use this to load previously saved weights!"
   ]
  },
  {
   "cell_type": "code",
   "execution_count": null,
   "metadata": {
    "colab": {
     "base_uri": "https://localhost:8080/"
    },
    "id": "pKW_kesKJG2H",
    "outputId": "ab5d1944-8cf1-4611-f066-14acd2381934"
   },
   "outputs": [
    {
     "name": "stdout",
     "output_type": "stream",
     "text": [
      "/content/drive/My Drive/Task-1/pytorch-YOLOv4\n"
     ]
    }
   ],
   "source": [
    "cd pytorch-YOLOv4/"
   ]
  },
  {
   "cell_type": "code",
   "execution_count": 4,
   "metadata": {
    "colab": {
     "base_uri": "https://localhost:8080/"
    },
    "id": "_2wta5kE69cp",
    "outputId": "012635fe-9d0d-4d0a-b0d2-2053a4c587bc"
   },
   "outputs": [
    {
     "name": "stdout",
     "output_type": "stream",
     "text": [
      "/content/drive/MyDrive/Task-1/pytorch-YOLOv4\n"
     ]
    }
   ],
   "source": [
    "cd  /content/drive/MyDrive/Task-1/pytorch-YOLOv4/"
   ]
  },
  {
   "cell_type": "code",
   "execution_count": 5,
   "metadata": {
    "colab": {
     "base_uri": "https://localhost:8080/"
    },
    "id": "5iR0H_DUoOl-",
    "outputId": "62d5cc31-28f0-44c9-ef90-b21da4a3984b"
   },
   "outputs": [
    {
     "name": "stdout",
     "output_type": "stream",
     "text": [
      "Yolov4_epoch10.pth  Yolov4_epoch22.pth\tYolov4_epoch34.pth  Yolov4_epoch46.pth\n",
      "Yolov4_epoch11.pth  Yolov4_epoch23.pth\tYolov4_epoch35.pth  Yolov4_epoch47.pth\n",
      "Yolov4_epoch12.pth  Yolov4_epoch24.pth\tYolov4_epoch36.pth  Yolov4_epoch48.pth\n",
      "Yolov4_epoch13.pth  Yolov4_epoch25.pth\tYolov4_epoch37.pth  Yolov4_epoch49.pth\n",
      "Yolov4_epoch14.pth  Yolov4_epoch26.pth\tYolov4_epoch38.pth  Yolov4_epoch4.pth\n",
      "Yolov4_epoch15.pth  Yolov4_epoch27.pth\tYolov4_epoch39.pth  Yolov4_epoch50.pth\n",
      "Yolov4_epoch16.pth  Yolov4_epoch28.pth\tYolov4_epoch3.pth   Yolov4_epoch5.pth\n",
      "Yolov4_epoch17.pth  Yolov4_epoch29.pth\tYolov4_epoch40.pth  Yolov4_epoch6.pth\n",
      "Yolov4_epoch18.pth  Yolov4_epoch2.pth\tYolov4_epoch41.pth  Yolov4_epoch7.pth\n",
      "Yolov4_epoch19.pth  Yolov4_epoch30.pth\tYolov4_epoch42.pth  Yolov4_epoch8.pth\n",
      "Yolov4_epoch1.pth   Yolov4_epoch31.pth\tYolov4_epoch43.pth  Yolov4_epoch9.pth\n",
      "Yolov4_epoch20.pth  Yolov4_epoch32.pth\tYolov4_epoch44.pth\n",
      "Yolov4_epoch21.pth  Yolov4_epoch33.pth\tYolov4_epoch45.pth\n"
     ]
    }
   ],
   "source": [
    "#looking at the weights that our model has saved during training\n",
    "!ls checkpoints"
   ]
  },
  {
   "cell_type": "code",
   "execution_count": 20,
   "metadata": {
    "id": "Vutw9YXmhvWo"
   },
   "outputs": [],
   "source": [
    "#choose random test image\n",
    "import os\n",
    "test_images = [f for f in os.listdir('test') if f.endswith('.jpg')]\n",
    "import random\n",
    "img_path = \"test/\" + random.choice(test_images);"
   ]
  },
  {
   "cell_type": "code",
   "execution_count": 21,
   "metadata": {
    "colab": {
     "base_uri": "https://localhost:8080/"
    },
    "id": "091QOGGihsuV",
    "outputId": "d6126c57-069c-4e95-da9d-23b0954cf31d"
   },
   "outputs": [
    {
     "name": "stdout",
     "output_type": "stream",
     "text": [
      "0: 1.000000\n",
      "0: 1.000000\n",
      "1: 0.999076\n",
      "1: 0.771721\n",
      "save plot results to predictions.jpg\n",
      "CPU times: user 16.7 ms, sys: 5.52 ms, total: 22.2 ms\n",
      "Wall time: 6.33 s\n"
     ]
    }
   ],
   "source": [
    "%%time\n",
    "##change the epoch here to the one you would like to use for inference\n",
    "!python models.py {num_classes} checkpoints/Yolov4_epoch46.pth {img_path} test/_classes.txt"
   ]
  },
  {
   "cell_type": "code",
   "execution_count": 22,
   "metadata": {
    "colab": {
     "base_uri": "https://localhost:8080/",
     "height": 433
    },
    "id": "Af8tiXQLrGgk",
    "outputId": "10ee3bd5-6e8d-449e-e88f-be92a643802a"
   },
   "outputs": [
    {
     "data": {
      "image/jpeg": "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\n",
      "text/plain": [
       "<IPython.core.display.Image object>"
      ]
     },
     "execution_count": 22,
     "metadata": {
      "tags": []
     },
     "output_type": "execute_result"
    }
   ],
   "source": [
    "#visualize inference\n",
    "from IPython.display import Image\n",
    "Image('predictions.jpg')"
   ]
  },
  {
   "cell_type": "code",
   "execution_count": null,
   "metadata": {
    "id": "zpH4qUnIwzRv"
   },
   "outputs": [],
   "source": []
  },
  {
   "cell_type": "code",
   "execution_count": null,
   "metadata": {
    "id": "P2vsK3_rf6dg"
   },
   "outputs": [],
   "source": []
  },
  {
   "cell_type": "code",
   "execution_count": null,
   "metadata": {
    "id": "i5O_vpKff6gE"
   },
   "outputs": [],
   "source": []
  }
 ],
 "metadata": {
  "accelerator": "GPU",
  "colab": {
   "collapsed_sections": [],
   "name": "Task-1.ipynb",
   "provenance": [],
   "toc_visible": true
  },
  "kernelspec": {
   "display_name": "Python 3",
   "language": "python",
   "name": "python3"
  },
  "language_info": {
   "codemirror_mode": {
    "name": "ipython",
    "version": 3
   },
   "file_extension": ".py",
   "mimetype": "text/x-python",
   "name": "python",
   "nbconvert_exporter": "python",
   "pygments_lexer": "ipython3",
   "version": "3.7.4"
  }
 },
 "nbformat": 4,
 "nbformat_minor": 1
 "nbformat_minor": 1
}
